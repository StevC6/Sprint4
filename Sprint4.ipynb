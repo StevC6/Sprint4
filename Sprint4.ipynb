{
 "cells": [
  {
   "cell_type": "markdown",
   "metadata": {},
   "source": [
    "# ¡Hola  Stev!\n",
    "\n",
    "Mi nombre es Ezequiel Ferrario, soy code reviewer en Tripleten y tengo el agrado de revisar el proyecto que entregaste.\n",
    "\n",
    "Para simular la dinámica de un ambiente de trabajo, si veo algún error, en primer instancia solo los señalaré, dándote la oportunidad de encontrarlos y corregirlos por tu cuenta. En un trabajo real, el líder de tu equipo hará una dinámica similar. En caso de que no puedas resolver la tarea, te daré una información más precisa en la próxima revisión.\n",
    "\n",
    "Encontrarás mis comentarios más abajo - **por favor, no los muevas, no los modifiques ni los borres**.\n",
    "\n",
    "¿Cómo lo voy a hacer? Voy a leer detenidamente cada una de las implementaciones que has llevado a cabo para cumplir con lo solicitado. Verás los comentarios de esta forma:\n",
    "\n",
    "<div class=\"alert alert-block alert-success\">\n",
    "<b>Comentario del revisor</b> <a class=\"tocSkip\"></a>\n",
    "\n",
    "Si todo está perfecto.\n",
    "</div>\n",
    "\n",
    "\n",
    "<div class=\"alert alert-block alert-warning\">\n",
    "<b>Comentario del revisor</b> <a class=\"tocSkip\"></a>\n",
    "\n",
    "Si tu código está bien pero se puede mejorar o hay algún detalle que le hace falta. Se aceptan uno o dos comentarios de este tipo en el borrador, pero si hay más, deberá hacer las correcciones. Es como una tarea de prueba al solicitar un trabajo: muchos pequeños errores pueden hacer que un candidato sea rechazado.\n",
    "</div>\n",
    "\n",
    "<div class=\"alert alert-block alert-danger\">\n",
    "\n",
    "<b>Comentario del revisor</b> <a class=\"tocSkip\"></a>\n",
    "\n",
    "Si de pronto hace falta algo o existe algún problema con tu código o conclusiones.\n",
    "</div>\n",
    "\n",
    "Puedes responderme de esta forma:\n",
    "\n",
    "<div class=\"alert alert-block alert-info\">\n",
    "<b>Respuesta del estudiante</b> <a class=\"tocSkip\"></a>\n",
    "\n",
    "Hola, muchas gracias por tus comentarios y la revisión.\n",
    "</div>\n",
    "\n",
    "¡Empecemos!"
   ]
  },
  {
   "cell_type": "markdown",
   "metadata": {},
   "source": [
    "-------------------\n",
    "\n",
    "\n",
    "<div class=\"alert alert-block alert-danger\">\n",
    "\n",
    "<b>Comentario general #1</b> <a class=\"tocSkip\"></a>\n",
    "\n",
    "Stev, has realizado un muy buen proyecto ya que abarcaste  todas las partes de las mismo de muy buena forma.\n",
    "    \n",
    "Tu codigo en general es muy bueno y entendes como extraer cada informacion. Por lo que restan aglunos detalles nada mas para finalizar este trabajo.\n",
    "    \n",
    "**Recorda eliminar todas las guias -que estan entre corchetes- ya que son un requisito de forma obligatorio**.\n",
    "    \n",
    "    \n",
    " Quedo a la espera de tu correccion, saludos.\n",
    "\n",
    "\n",
    "\n",
    "\n",
    "\n",
    "\n",
    "</div>\n",
    "\n",
    "\n",
    "<div class=\"alert alert-block alert-success\">\n",
    "\n",
    "<b>Comentario general #2</b> <a class=\"tocSkip\"></a>\n",
    "\n",
    "Stev, has corregido todos los puntos que te fui marcando y el trabajo eraw bueno ahora que esta completo es excelente.\n",
    "    \n",
    "  Me gusto mucho leer tus nuevos analisis y ver que pudiste resolver todo.\n",
    "    \n",
    "    \n",
    "  En los comentarios amarillos te deje una guia de como realizar los graficos de barras y el lineplot.\n",
    "    \n",
    "  Dicho esto, el proyecto queda **aprobado**.\n",
    "    \n",
    "  Exitos en lo que viene, saludos.\n",
    "\n",
    "\n",
    "\n",
    "\n",
    "\n",
    "</div>\n",
    "\n",
    "----------------"
   ]
  },
  {
   "cell_type": "markdown",
   "metadata": {
    "id": "3rYiDeEH0q0f"
   },
   "source": [
    "# ¿Cuál es la mejor tarifa?\n",
    "\n",
    "Trabajas como analista para el operador de telecomunicaciones Megaline. La empresa ofrece a sus clientes dos tarifas de prepago, Surf y Ultimate. El departamento comercial quiere saber cuál de las tarifas genera más ingresos para poder ajustar el presupuesto de publicidad.\n",
    "\n",
    "Vas a realizar un análisis preliminar de las tarifas basado en una selección de clientes relativamente pequeña. Tendrás los datos de 500 clientes de Megaline: quiénes son los clientes, de dónde son, qué tarifa usan, así como la cantidad de llamadas que hicieron y los mensajes de texto que enviaron en 2018. Tu trabajo es analizar el comportamiento de los clientes y determinar qué tarifa de prepago genera más ingresos.\n",
    "\n",
    "<div class=\"alert alert-block alert-success\">\n",
    "\n",
    "<b>Comentario del revisor</b> <a class=\"tocSkip\"></a>\n",
    "\n",
    "Muy buena tabla de contenidos.</div>"
   ]
  },
  {
   "cell_type": "markdown",
   "metadata": {},
   "source": [
    "<div class=\"alert alert-block alert-danger\">\n",
    "\n",
    "<b>Comentario del revisor</b> <a class=\"tocSkip\"></a>\n",
    "\n",
    "Recorda que lo que esta entre corchete es una mera guia para el alumno. Este al ser un proyecto simulando un espacio profesional, deberias eliminar los mismos.\n",
    "\n",
    "Esta correccion aplica a **todo** el proyecto, es decir cualquier parte donde se encuentre este tipo de guias ya que es un requisito de **forma** obligatorio para aprobar el proyecto (es decir, que no quede ninguna guia/corchete).</div>"
   ]
  },
  {
   "cell_type": "markdown",
   "metadata": {},
   "source": [
    "<div class=\"alert alert-block alert-info\">\n",
    "Muchas gracias, he corregido este punto.</div>"
   ]
  },
  {
   "cell_type": "markdown",
   "metadata": {
    "id": "MQi4IPy70q0y"
   },
   "source": [
    "## Inicialización"
   ]
  },
  {
   "cell_type": "code",
   "execution_count": 1,
   "metadata": {
    "id": "MtYIuBxu0q0z"
   },
   "outputs": [],
   "source": [
    "# Cargar todas las librerías\n",
    "from scipy import stats as st\n",
    "import numpy as np\n",
    "import pandas as pd\n",
    "from matplotlib import pyplot as plt \n",
    "import seaborn as sns"
   ]
  },
  {
   "cell_type": "markdown",
   "metadata": {
    "id": "4ysWWC5i0q00"
   },
   "source": [
    "## Cargar datos"
   ]
  },
  {
   "cell_type": "code",
   "execution_count": 2,
   "metadata": {
    "id": "CCqPW7rS0q01"
   },
   "outputs": [],
   "source": [
    "# Carga los archivos de datos en diferentes DataFrames\n",
    "calls = pd.read_csv('/datasets/megaline_calls.csv', sep=',') \n",
    "internet = pd.read_csv('/datasets/megaline_internet.csv', sep=',') \n",
    "messages = pd.read_csv('/datasets/megaline_messages.csv', sep=',')\n",
    "plans = pd.read_csv('/datasets/megaline_plans.csv', sep=',')\n",
    "users = pd.read_csv('/datasets/megaline_users.csv', sep=',')"
   ]
  },
  {
   "cell_type": "markdown",
   "metadata": {
    "id": "69qqoJ3r0q01"
   },
   "source": [
    "## Preparar los datos"
   ]
  },
  {
   "cell_type": "markdown",
   "metadata": {
    "id": "ohBhimvH0q01"
   },
   "source": [
    "## Tarifas"
   ]
  },
  {
   "cell_type": "code",
   "execution_count": 3,
   "metadata": {
    "id": "GptqP3Q40q02"
   },
   "outputs": [
    {
     "name": "stdout",
     "output_type": "stream",
     "text": [
      "       messages_included  mb_per_month_included  minutes_included  \\\n",
      "count           2.000000               2.000000          2.000000   \n",
      "mean          525.000000           23040.000000       1750.000000   \n",
      "std           671.751442           10861.160159       1767.766953   \n",
      "min            50.000000           15360.000000        500.000000   \n",
      "25%           287.500000           19200.000000       1125.000000   \n",
      "50%           525.000000           23040.000000       1750.000000   \n",
      "75%           762.500000           26880.000000       2375.000000   \n",
      "max          1000.000000           30720.000000       3000.000000   \n",
      "\n",
      "       usd_monthly_pay  usd_per_gb  usd_per_message  usd_per_minute  \n",
      "count         2.000000     2.00000         2.000000        2.000000  \n",
      "mean         45.000000     8.50000         0.020000        0.020000  \n",
      "std          35.355339     2.12132         0.014142        0.014142  \n",
      "min          20.000000     7.00000         0.010000        0.010000  \n",
      "25%          32.500000     7.75000         0.015000        0.015000  \n",
      "50%          45.000000     8.50000         0.020000        0.020000  \n",
      "75%          57.500000     9.25000         0.025000        0.025000  \n",
      "max          70.000000    10.00000         0.030000        0.030000  \n",
      "\n",
      "<class 'pandas.core.frame.DataFrame'>\n",
      "RangeIndex: 2 entries, 0 to 1\n",
      "Data columns (total 8 columns):\n",
      " #   Column                 Non-Null Count  Dtype  \n",
      "---  ------                 --------------  -----  \n",
      " 0   messages_included      2 non-null      int64  \n",
      " 1   mb_per_month_included  2 non-null      int64  \n",
      " 2   minutes_included       2 non-null      int64  \n",
      " 3   usd_monthly_pay        2 non-null      int64  \n",
      " 4   usd_per_gb             2 non-null      int64  \n",
      " 5   usd_per_message        2 non-null      float64\n",
      " 6   usd_per_minute         2 non-null      float64\n",
      " 7   plan_name              2 non-null      object \n",
      "dtypes: float64(2), int64(5), object(1)\n",
      "memory usage: 256.0+ bytes\n"
     ]
    }
   ],
   "source": [
    "# Imprime la información general/resumida sobre el DataFrame de las tarifas\n",
    "print(plans.describe())#Funcion para ver calculos generales sobre los datos del dataframe\n",
    "print()\n",
    "plans.info() #Funcion para ver informacion general de los datos del dataframe\n"
   ]
  },
  {
   "cell_type": "code",
   "execution_count": 4,
   "metadata": {
    "id": "64xzjwL70q02"
   },
   "outputs": [
    {
     "name": "stdout",
     "output_type": "stream",
     "text": [
      "   messages_included  mb_per_month_included  minutes_included  \\\n",
      "0                 50                  15360               500   \n",
      "1               1000                  30720              3000   \n",
      "\n",
      "   usd_monthly_pay  usd_per_gb  usd_per_message  usd_per_minute plan_name  \n",
      "0               20          10             0.03            0.03      surf  \n",
      "1               70           7             0.01            0.01  ultimate  \n"
     ]
    }
   ],
   "source": [
    "# Imprime una muestra de los datos para las tarifas\n",
    "print(plans) \n"
   ]
  },
  {
   "cell_type": "code",
   "execution_count": 5,
   "metadata": {},
   "outputs": [
    {
     "name": "stdout",
     "output_type": "stream",
     "text": [
      "0\n"
     ]
    }
   ],
   "source": [
    "#Verificamos si existen duplicados\n",
    "print(plans.duplicated().sum())"
   ]
  },
  {
   "cell_type": "markdown",
   "metadata": {
    "id": "mEc_3_hs0q02"
   },
   "source": [
    "- Los datos parecen correctos, simplemente se podria reemplazar el nombre de plan_name a solo plan para que tenga el mismo nombre la columna que en otro dataframe que tambien contiene la misma informacion.  \n",
    "- No existen datos duplicados.  "
   ]
  },
  {
   "cell_type": "markdown",
   "metadata": {
    "id": "R3C05i1l0q03"
   },
   "source": [
    "## Corregir datos"
   ]
  },
  {
   "cell_type": "code",
   "execution_count": 6,
   "metadata": {
    "id": "Y7SVmjGn0q03"
   },
   "outputs": [],
   "source": [
    "plans.rename(columns={'plan_name': 'plan'}, inplace=True) #Cambiamos el nombre de una columna"
   ]
  },
  {
   "cell_type": "markdown",
   "metadata": {
    "id": "LJir7bml0q03"
   },
   "source": [
    "## Enriquecer los datos"
   ]
  },
  {
   "cell_type": "code",
   "execution_count": 7,
   "metadata": {
    "id": "gfcIEuXV0q04",
    "scrolled": true
   },
   "outputs": [
    {
     "name": "stdout",
     "output_type": "stream",
     "text": [
      "Este tipo de informacion para este DF parece completa\n"
     ]
    }
   ],
   "source": [
    "print('Este tipo de informacion para este DF parece completa')"
   ]
  },
  {
   "cell_type": "markdown",
   "metadata": {},
   "source": [
    "- Este dataframe solo contiene 2 filas ya que corresponde a la informacion de cada plan.  \n",
    "- La informacion estadistica en general sobre este dataframe no nos dice mucho ya que realmente este dataframe mas bien sirve como una descripcion general de los planes."
   ]
  },
  {
   "cell_type": "markdown",
   "metadata": {},
   "source": [
    "<div class=\"alert alert-block alert-danger\">\n",
    "\n",
    "<b>Comentario del revisor</b> <a class=\"tocSkip\"></a>\n",
    "\n",
    "Recorda que nuestro cliente utiliza la medida en gb, transforma los mb a gb (recorda la correcta conversion).</div>\n",
    "\n",
    "<div class=\"alert alert-block alert-success\">\n",
    "\n",
    "<b>Comentario del revisor #2</b> <a class=\"tocSkip\"></a>\n",
    "\n",
    "Corregido, muy bien.</div>\n",
    "\n"
   ]
  },
  {
   "cell_type": "markdown",
   "metadata": {},
   "source": [
    "<div class=\"alert alert-block alert-info\">\n",
    "Hola gracias por la observacion, hice la transformacion mas adelante en la parte de los calculos.\n",
    "</div>"
   ]
  },
  {
   "cell_type": "markdown",
   "metadata": {
    "id": "1n2X6WXf0q04"
   },
   "source": [
    "## Usuarios/as"
   ]
  },
  {
   "cell_type": "code",
   "execution_count": 8,
   "metadata": {
    "id": "2NgjWFqx0q05"
   },
   "outputs": [
    {
     "name": "stdout",
     "output_type": "stream",
     "text": [
      "           user_id         age\n",
      "count   500.000000  500.000000\n",
      "mean   1249.500000   45.486000\n",
      "std     144.481833   16.972269\n",
      "min    1000.000000   18.000000\n",
      "25%    1124.750000   30.000000\n",
      "50%    1249.500000   46.000000\n",
      "75%    1374.250000   61.000000\n",
      "max    1499.000000   75.000000\n",
      "\n",
      "<class 'pandas.core.frame.DataFrame'>\n",
      "RangeIndex: 500 entries, 0 to 499\n",
      "Data columns (total 8 columns):\n",
      " #   Column      Non-Null Count  Dtype \n",
      "---  ------      --------------  ----- \n",
      " 0   user_id     500 non-null    int64 \n",
      " 1   first_name  500 non-null    object\n",
      " 2   last_name   500 non-null    object\n",
      " 3   age         500 non-null    int64 \n",
      " 4   city        500 non-null    object\n",
      " 5   reg_date    500 non-null    object\n",
      " 6   plan        500 non-null    object\n",
      " 7   churn_date  34 non-null     object\n",
      "dtypes: int64(2), object(6)\n",
      "memory usage: 31.4+ KB\n"
     ]
    }
   ],
   "source": [
    "# Imprime la información general/resumida sobre el DataFrame de usuarios\n",
    "print(users.describe())#Funcion para ver calculos generales sobre los datos del dataframe\n",
    "print()\n",
    "users.info() #Funcion para ver informacion general de los datos del dataframe\n"
   ]
  },
  {
   "cell_type": "code",
   "execution_count": 9,
   "metadata": {
    "id": "1IN1L9uh0q05"
   },
   "outputs": [
    {
     "name": "stdout",
     "output_type": "stream",
     "text": [
      "     user_id first_name  last_name  age  \\\n",
      "315     1315       Mora  Schroeder   45   \n",
      "120     1120    Abraham  Mcconnell   33   \n",
      "121     1121  Kathaleen     Albert   34   \n",
      "264     1264     Jessie       Hill   69   \n",
      "332     1332      Lucas   Saunders   37   \n",
      "\n",
      "                                              city    reg_date      plan  \\\n",
      "315                           Raleigh-Cary, NC MSA  2018-04-26      surf   \n",
      "120      New York-Newark-Jersey City, NY-NJ-PA MSA  2018-04-03      surf   \n",
      "121  Miami-Fort Lauderdale-West Palm Beach, FL MSA  2018-03-13      surf   \n",
      "264         Los Angeles-Long Beach-Anaheim, CA MSA  2018-05-03  ultimate   \n",
      "332          Atlanta-Sandy Springs-Roswell, GA MSA  2018-03-12      surf   \n",
      "\n",
      "     churn_date  \n",
      "315  2018-10-03  \n",
      "120         NaN  \n",
      "121         NaN  \n",
      "264         NaN  \n",
      "332         NaN  \n"
     ]
    }
   ],
   "source": [
    "# Imprime una muestra de datos para usuarios\n",
    "print(users.sample(5)) "
   ]
  },
  {
   "cell_type": "code",
   "execution_count": 10,
   "metadata": {},
   "outputs": [
    {
     "name": "stdout",
     "output_type": "stream",
     "text": [
      "0\n"
     ]
    }
   ],
   "source": [
    "#Verificamos si existen duplicados\n",
    "print(plans.duplicated().sum())"
   ]
  },
  {
   "cell_type": "markdown",
   "metadata": {},
   "source": [
    "<div class=\"alert alert-block alert-danger\">\n",
    "\n",
    "<b>Comentario del revisor</b> <a class=\"tocSkip\"></a>\n",
    "\n",
    "Verifica que no existen duplicados.</div>\n",
    "\n",
    "<div class=\"alert alert-block alert-success\">\n",
    "\n",
    "<b>Comentario del revisor #2</b> <a class=\"tocSkip\"></a>\n",
    "\n",
    "Corregido.</div>"
   ]
  },
  {
   "cell_type": "markdown",
   "metadata": {},
   "source": [
    "<div class=\"alert alert-block alert-info\">\n",
    "Resuelto.</div>"
   ]
  },
  {
   "cell_type": "markdown",
   "metadata": {},
   "source": [
    "<div class=\"alert alert-block alert-info\">\n",
    "Gracias, he verificado en cada dataframe si existen duplicados.\n",
    "</div>"
   ]
  },
  {
   "cell_type": "markdown",
   "metadata": {
    "id": "dCZoUq4f0q06"
   },
   "source": [
    "- Las columnas que contienen fechas son del tipo object, esto se puede solucionar cambiando los tipos de datos de estas columnas al tipo datetime.\n"
   ]
  },
  {
   "cell_type": "markdown",
   "metadata": {
    "id": "BX5FQh_I0q06"
   },
   "source": [
    "### Corregir los datos"
   ]
  },
  {
   "cell_type": "code",
   "execution_count": 11,
   "metadata": {
    "id": "yUqX-K0C0q07"
   },
   "outputs": [],
   "source": [
    "users['reg_date'] = pd.to_datetime(users['reg_date'], format='%Y-%m-%d')#Transformamos a datetime las fechas\n"
   ]
  },
  {
   "cell_type": "markdown",
   "metadata": {
    "id": "ycwuARJp0q07"
   },
   "source": [
    "### Enriquecer los datos"
   ]
  },
  {
   "cell_type": "code",
   "execution_count": 12,
   "metadata": {
    "id": "iq0AaBS90q08"
   },
   "outputs": [
    {
     "name": "stdout",
     "output_type": "stream",
     "text": [
      "    user_id first_name last_name  age  \\\n",
      "6      1006     Jesusa  Bradford   73   \n",
      "12     1012    Jonelle   Mcbride   59   \n",
      "22     1022         Bo      Snow   73   \n",
      "40     1040      Paris    Santos   72   \n",
      "50     1050       Jone      Owen   23   \n",
      "\n",
      "                                               city   reg_date      plan  \\\n",
      "6            San Francisco-Oakland-Berkeley, CA MSA 2018-11-27  ultimate   \n",
      "12           Chicago-Naperville-Elgin, IL-IN-WI MSA 2018-06-28      surf   \n",
      "22        New York-Newark-Jersey City, NY-NJ-PA MSA 2018-04-20      surf   \n",
      "40  Philadelphia-Camden-Wilmington, PA-NJ-DE-MD MSA 2018-12-23      surf   \n",
      "50    Miami-Fort Lauderdale-West Palm Beach, FL MSA 2018-03-20  ultimate   \n",
      "\n",
      "    churn_date  \n",
      "6   2018-12-18  \n",
      "12  2018-11-16  \n",
      "22  2018-09-07  \n",
      "40  2018-12-30  \n",
      "50  2018-10-07  \n"
     ]
    }
   ],
   "source": [
    "print(users[~users['churn_date'].isna()].head(5))#Revisamos como esta estructurados los datos de la columna con datows ausentes"
   ]
  },
  {
   "cell_type": "markdown",
   "metadata": {},
   "source": [
    "- Tenemos informacion sobre 500 clientes.  \n",
    "- En promedio los clientes tienen alrededor de 45 años, siendo el menor de 18 años y el mayor de 75 años.  "
   ]
  },
  {
   "cell_type": "markdown",
   "metadata": {},
   "source": [
    "<div class=\"alert alert-block alert-danger\">\n",
    "\n",
    "<b>Comentario del revisor</b> <a class=\"tocSkip\"></a>\n",
    "\n",
    "Describi los datos - y su distribucion- observados en este dataset y concluí al respecto de los cambios realizado. Esta parte es muy importante debido que es aquí donde también esta nuestro valor, ya que el cliente podrá no entender el código pero si el análisis o la descripcion.\n",
    "\n",
    "Recorda hacer este tipo de comentarios en formato **markdown** que es el adecuado para ello.</div>\n",
    "\n",
    "<div class=\"alert alert-block alert-success\">\n",
    "\n",
    "<b>Comentario del revisor #2</b> <a class=\"tocSkip\"></a>\n",
    "\n",
    "Corregido, perfecto.</div>"
   ]
  },
  {
   "cell_type": "markdown",
   "metadata": {},
   "source": [
    "<div class=\"alert alert-block alert-info\">\n",
    "He agregado un par de observaciones que me parecieron interesantes.</div>"
   ]
  },
  {
   "cell_type": "markdown",
   "metadata": {
    "id": "o7MeKCid0q08"
   },
   "source": [
    "## Llamadas"
   ]
  },
  {
   "cell_type": "code",
   "execution_count": 13,
   "metadata": {
    "id": "6dDlnoDm0q08"
   },
   "outputs": [
    {
     "name": "stdout",
     "output_type": "stream",
     "text": [
      "             user_id       duration\n",
      "count  137735.000000  137735.000000\n",
      "mean     1247.658046       6.745927\n",
      "std       139.416268       5.839241\n",
      "min      1000.000000       0.000000\n",
      "25%      1128.000000       1.290000\n",
      "50%      1247.000000       5.980000\n",
      "75%      1365.000000      10.690000\n",
      "max      1499.000000      37.600000\n",
      "\n",
      "<class 'pandas.core.frame.DataFrame'>\n",
      "RangeIndex: 137735 entries, 0 to 137734\n",
      "Data columns (total 4 columns):\n",
      " #   Column     Non-Null Count   Dtype  \n",
      "---  ------     --------------   -----  \n",
      " 0   id         137735 non-null  object \n",
      " 1   user_id    137735 non-null  int64  \n",
      " 2   call_date  137735 non-null  object \n",
      " 3   duration   137735 non-null  float64\n",
      "dtypes: float64(1), int64(1), object(2)\n",
      "memory usage: 4.2+ MB\n"
     ]
    }
   ],
   "source": [
    "# Imprime la información general/resumida sobre el DataFrame de las llamadas\n",
    "print(calls.describe())#Funcion para ver calculos generales sobre los datos del dataframe\n",
    "print()\n",
    "calls.info() #Funcion para ver informacion general de los datos del dataframe\n"
   ]
  },
  {
   "cell_type": "markdown",
   "metadata": {},
   "source": [
    "<div class=\"alert alert-block alert-warning\">\n",
    "\n",
    "<b>Comentario del revisor</b> <a class=\"tocSkip\"></a>\n",
    "\n",
    "¿Hay valores de llamadas que duran 0 minutos? ¿Que harias con ellas?</div>\n",
    "\n",
    "<div class=\"alert alert-block alert-success\">\n",
    "\n",
    "<b>Comentario del revisor #2</b> <a class=\"tocSkip\"></a>\n",
    "\n",
    "Corregido.</div>"
   ]
  },
  {
   "cell_type": "markdown",
   "metadata": {},
   "source": [
    "<div class=\"alert alert-block alert-info\">\n",
    "Puede ser factible eliminarlas ya que esto no afectara a futuros calculos. </div>"
   ]
  },
  {
   "cell_type": "markdown",
   "metadata": {},
   "source": [
    "<div class=\"alert alert-block alert-info\">\n",
    "Talvez sea factible eliminar las filas que contengan duracion de llamada 0 o null ya que no van a afectar al resultado final del analisis.\n",
    "</div>"
   ]
  },
  {
   "cell_type": "code",
   "execution_count": 14,
   "metadata": {
    "id": "kuh1vlNB0q09"
   },
   "outputs": [
    {
     "name": "stdout",
     "output_type": "stream",
     "text": [
      "              id  user_id   call_date  duration\n",
      "92953   1334_321     1334  2018-09-20      0.00\n",
      "118370  1412_654     1412  2018-08-02      5.46\n",
      "89905   1326_556     1326  2018-11-29      4.58\n",
      "48720   1175_251     1175  2018-12-02     10.30\n",
      "73748   1261_528     1261  2018-06-21     10.18\n"
     ]
    }
   ],
   "source": [
    "# Imprime una muestra de datos para las llamadas\n",
    "print(calls.sample(5)) \n"
   ]
  },
  {
   "cell_type": "code",
   "execution_count": 15,
   "metadata": {},
   "outputs": [
    {
     "name": "stdout",
     "output_type": "stream",
     "text": [
      "0\n"
     ]
    }
   ],
   "source": [
    "#Verificamos si existen duplicados\n",
    "print(calls.duplicated().sum())"
   ]
  },
  {
   "cell_type": "markdown",
   "metadata": {},
   "source": [
    "<div class=\"alert alert-block alert-danger\">\n",
    "\n",
    "<b>Comentario del revisor</b> <a class=\"tocSkip\"></a>\n",
    "\n",
    "Verifica que no existen duplicados.</div>"
   ]
  },
  {
   "cell_type": "markdown",
   "metadata": {},
   "source": [
    "<div class=\"alert alert-block alert-info\">\n",
    "Resuelto.</div>"
   ]
  },
  {
   "cell_type": "markdown",
   "metadata": {
    "id": "DOAxYJSx0q09"
   },
   "source": [
    "- Las columnas que contienen fechas son del tipo object, esto se puede solucionar cambiando los tipos de datos de estas columnas al tipo datetime."
   ]
  },
  {
   "cell_type": "markdown",
   "metadata": {
    "id": "S7hzxmbX0q0-"
   },
   "source": [
    "### Corregir los datos"
   ]
  },
  {
   "cell_type": "code",
   "execution_count": 16,
   "metadata": {
    "id": "S2r8xA4f0q0-"
   },
   "outputs": [],
   "source": [
    "calls['call_date'] = pd.to_datetime(calls['call_date'], format='%Y-%m-%d')#Transformamos a datetime las fechas"
   ]
  },
  {
   "cell_type": "markdown",
   "metadata": {
    "id": "KrMgTrlG0q0_"
   },
   "source": [
    "### Enriquecer los datos"
   ]
  },
  {
   "cell_type": "code",
   "execution_count": 17,
   "metadata": {
    "id": "iZ1avpA_0q0_"
   },
   "outputs": [
    {
     "name": "stdout",
     "output_type": "stream",
     "text": [
      "              id  user_id  call_date  duration  month\n",
      "69644   1249_586     1249 2018-09-08     11.52      9\n",
      "93023   1334_391     1334 2018-08-03      4.59      8\n",
      "116295  1406_521     1406 2018-06-09     11.97      6\n",
      "115651   1405_50     1405 2018-07-15      0.00      7\n",
      "103301  1365_497     1365 2018-12-22     15.10     12\n"
     ]
    }
   ],
   "source": [
    "calls['month'] = pd.DatetimeIndex(calls['call_date']).month #Guardamos el mes en una nueva columna\n",
    "print(calls.sample(5))"
   ]
  },
  {
   "cell_type": "markdown",
   "metadata": {},
   "source": [
    "- Se tiene un registro de 137735 llamadas.  \n",
    "- Las llamadas tienen una duracion promedio de casi 7 minutos, existen llamadas con duracion de 0 minutos y la mas larga incluso casi llega a los 37 minutos.  \n"
   ]
  },
  {
   "cell_type": "markdown",
   "metadata": {},
   "source": [
    "<div class=\"alert alert-block alert-danger\">\n",
    "\n",
    "<b>Comentario del revisor</b> <a class=\"tocSkip\"></a>\n",
    "\n",
    "Describi los datos - y su distribucion- observados en este dataset y concluí al respecto de los cambios realizado. Esta parte es muy importante debido que es aquí donde también esta nuestro valor, ya que el cliente podrá no entender el código pero si el análisis o la descripcion.\n",
    "\n",
    "Recorda hacer este tipo de comentarios en formato **markdown** que es el adecuado para ello.</div>\n",
    "\n",
    "<div class=\"alert alert-block alert-success\">\n",
    "\n",
    "<b>Comentario del revisor #2</b> <a class=\"tocSkip\"></a>\n",
    "\n",
    "Corregido.</div>"
   ]
  },
  {
   "cell_type": "markdown",
   "metadata": {},
   "source": [
    "<div class=\"alert alert-block alert-info\">\n",
    "He agregado un par de observaciones que me parecieron interesantes.</div>"
   ]
  },
  {
   "cell_type": "markdown",
   "metadata": {
    "id": "mOUZSi180q0_"
   },
   "source": [
    "## Mensajes"
   ]
  },
  {
   "cell_type": "code",
   "execution_count": 18,
   "metadata": {
    "id": "R-bYJpdV0q1A"
   },
   "outputs": [
    {
     "name": "stdout",
     "output_type": "stream",
     "text": [
      "            user_id\n",
      "count  76051.000000\n",
      "mean    1245.972768\n",
      "std      139.843635\n",
      "min     1000.000000\n",
      "25%     1123.000000\n",
      "50%     1251.000000\n",
      "75%     1362.000000\n",
      "max     1497.000000\n",
      "\n",
      "<class 'pandas.core.frame.DataFrame'>\n",
      "RangeIndex: 76051 entries, 0 to 76050\n",
      "Data columns (total 3 columns):\n",
      " #   Column        Non-Null Count  Dtype \n",
      "---  ------        --------------  ----- \n",
      " 0   id            76051 non-null  object\n",
      " 1   user_id       76051 non-null  int64 \n",
      " 2   message_date  76051 non-null  object\n",
      "dtypes: int64(1), object(2)\n",
      "memory usage: 1.7+ MB\n"
     ]
    }
   ],
   "source": [
    "# Imprime la información general/resumida sobre el DataFrame de los mensajes\n",
    "print(messages.describe())#Funcion para ver calculos generales sobre los datos del dataframe\n",
    "print()\n",
    "messages.info() #Funcion para ver informacion general de los datos del dataframe"
   ]
  },
  {
   "cell_type": "code",
   "execution_count": 19,
   "metadata": {
    "id": "mCEl2iGE0q1A"
   },
   "outputs": [
    {
     "name": "stdout",
     "output_type": "stream",
     "text": [
      "             id  user_id message_date\n",
      "52879   1339_13     1339   2018-10-03\n",
      "43640   1290_12     1290   2018-11-17\n",
      "43951  1293_439     1293   2018-08-31\n",
      "67602  1438_168     1438   2018-12-26\n",
      "64729  1412_311     1412   2018-10-29\n"
     ]
    }
   ],
   "source": [
    "# Imprime una muestra de datos para los mensajes\n",
    "print(messages.sample(5))"
   ]
  },
  {
   "cell_type": "code",
   "execution_count": 20,
   "metadata": {},
   "outputs": [
    {
     "name": "stdout",
     "output_type": "stream",
     "text": [
      "0\n"
     ]
    }
   ],
   "source": [
    "#Verificamos si existen duplicados\n",
    "print(messages.duplicated().sum())"
   ]
  },
  {
   "cell_type": "markdown",
   "metadata": {},
   "source": [
    "<div class=\"alert alert-block alert-danger\">\n",
    "\n",
    "<b>Comentario del revisor</b> <a class=\"tocSkip\"></a>\n",
    "\n",
    "Verifica que no existen duplicados.</div>\n",
    "\n",
    "<div class=\"alert alert-block alert-success\">\n",
    "\n",
    "<b>Comentario del revisor #2</b> <a class=\"tocSkip\"></a>\n",
    "\n",
    "Corregido.</div>"
   ]
  },
  {
   "cell_type": "markdown",
   "metadata": {},
   "source": [
    "<div class=\"alert alert-block alert-info\">\n",
    "Resuelto.</div>"
   ]
  },
  {
   "cell_type": "markdown",
   "metadata": {
    "id": "04xDj7KH0q1A"
   },
   "source": [
    "- Las columnas que contienen fechas son del tipo object, esto se puede solucionar cambiando los tipos de datos de estas columnas al tipo datetime."
   ]
  },
  {
   "cell_type": "markdown",
   "metadata": {
    "id": "Sprfak900q1B"
   },
   "source": [
    "### Corregir los datos"
   ]
  },
  {
   "cell_type": "code",
   "execution_count": 21,
   "metadata": {
    "id": "vsllvkoa0q1B"
   },
   "outputs": [],
   "source": [
    "messages['message_date'] = pd.to_datetime(messages['message_date'], format='%Y-%m-%d') #Transformamos a datetime las fechas"
   ]
  },
  {
   "cell_type": "markdown",
   "metadata": {
    "id": "HvLid7iD0q1B"
   },
   "source": [
    "### Enriquecer los datos"
   ]
  },
  {
   "cell_type": "code",
   "execution_count": 22,
   "metadata": {
    "id": "zYEXZac10q1C"
   },
   "outputs": [
    {
     "name": "stdout",
     "output_type": "stream",
     "text": [
      "              id  user_id message_date  month\n",
      "5814    1054_181     1054   2018-09-29      9\n",
      "44191  1293_1121     1293   2018-10-18     10\n",
      "9807     1075_62     1075   2018-10-22     10\n",
      "64701   1412_283     1412   2018-11-02     11\n",
      "54401   1343_501     1343   2018-11-29     11\n"
     ]
    }
   ],
   "source": [
    "messages['month'] = pd.DatetimeIndex(messages['message_date']).month #Guardamos el mes en una nueva variable\n",
    "print(messages.sample(5))"
   ]
  },
  {
   "cell_type": "markdown",
   "metadata": {},
   "source": [
    "- Existe registro de un total de 76051 mensajes.  "
   ]
  },
  {
   "cell_type": "markdown",
   "metadata": {},
   "source": [
    "<div class=\"alert alert-block alert-danger\">\n",
    "\n",
    "<b>Comentario del revisor</b> <a class=\"tocSkip\"></a>\n",
    "\n",
    "Describi los datos - y su distribucion- observados en este dataset y concluí al respecto de los cambios realizado. Esta parte es muy importante debido que es aquí donde también esta nuestro valor, ya que el cliente podrá no entender el código pero si el análisis o la descripcion.\n",
    "\n",
    "Recorda hacer este tipo de comentarios en formato **markdown** que es el adecuado para ello.</div>\n",
    "\n",
    "<div class=\"alert alert-block alert-success\">\n",
    "\n",
    "<b>Comentario del revisor #2</b> <a class=\"tocSkip\"></a>\n",
    "\n",
    "Corregido.</div>"
   ]
  },
  {
   "cell_type": "markdown",
   "metadata": {},
   "source": [
    "<div class=\"alert alert-block alert-info\">\n",
    "He agregado una observacion que me parece interesante.</div>"
   ]
  },
  {
   "cell_type": "markdown",
   "metadata": {
    "id": "bStkaxn40q1C"
   },
   "source": [
    "## Internet"
   ]
  },
  {
   "cell_type": "code",
   "execution_count": 23,
   "metadata": {
    "id": "e-Uz5qyn0q1C"
   },
   "outputs": [
    {
     "name": "stdout",
     "output_type": "stream",
     "text": [
      "             user_id        mb_used\n",
      "count  104825.000000  104825.000000\n",
      "mean     1242.496361     366.713701\n",
      "std       142.053913     277.170542\n",
      "min      1000.000000       0.000000\n",
      "25%      1122.000000     136.080000\n",
      "50%      1236.000000     343.980000\n",
      "75%      1367.000000     554.610000\n",
      "max      1499.000000    1693.470000\n",
      "\n",
      "<class 'pandas.core.frame.DataFrame'>\n",
      "RangeIndex: 104825 entries, 0 to 104824\n",
      "Data columns (total 4 columns):\n",
      " #   Column        Non-Null Count   Dtype  \n",
      "---  ------        --------------   -----  \n",
      " 0   id            104825 non-null  object \n",
      " 1   user_id       104825 non-null  int64  \n",
      " 2   session_date  104825 non-null  object \n",
      " 3   mb_used       104825 non-null  float64\n",
      "dtypes: float64(1), int64(1), object(2)\n",
      "memory usage: 3.2+ MB\n"
     ]
    }
   ],
   "source": [
    "# Imprime la información general/resumida sobre el DataFrame de internet\n",
    "print(internet.describe())#Funcion para ver calculos generales sobre los datos del dataframe\n",
    "print()\n",
    "internet.info() #Funcion para ver informacion general de los datos del dataframe"
   ]
  },
  {
   "cell_type": "code",
   "execution_count": 24,
   "metadata": {
    "id": "9r3x_XLw0q1C"
   },
   "outputs": [
    {
     "name": "stdout",
     "output_type": "stream",
     "text": [
      "             id  user_id session_date  mb_used\n",
      "78418  1366_107     1366   2018-11-06   362.01\n",
      "22742  1103_287     1103   2018-12-04   401.88\n",
      "12559   1061_56     1061   2018-12-10   341.20\n",
      "17441   1079_46     1079   2018-12-06   343.20\n",
      "25718  1120_256     1120   2018-11-06   670.37\n"
     ]
    }
   ],
   "source": [
    "# Imprime una muestra de datos para el tráfico de internet\n",
    "print(internet.sample(5))\n"
   ]
  },
  {
   "cell_type": "code",
   "execution_count": 25,
   "metadata": {},
   "outputs": [
    {
     "name": "stdout",
     "output_type": "stream",
     "text": [
      "0\n"
     ]
    }
   ],
   "source": [
    "#Verificamos si existen duplicados\n",
    "print(internet.duplicated().sum())"
   ]
  },
  {
   "cell_type": "markdown",
   "metadata": {},
   "source": [
    "<div class=\"alert alert-block alert-danger\">\n",
    "\n",
    "<b>Comentario del revisor</b> <a class=\"tocSkip\"></a>\n",
    "\n",
    "Verifica que no existen duplicados.</div>\n",
    "\n",
    "<div class=\"alert alert-block alert-success\">\n",
    "\n",
    "<b>Comentario del revisor #2</b> <a class=\"tocSkip\"></a>\n",
    "\n",
    "Corregido.</div>"
   ]
  },
  {
   "cell_type": "markdown",
   "metadata": {},
   "source": [
    "<div class=\"alert alert-block alert-info\">\n",
    "Resuelto.</div>"
   ]
  },
  {
   "cell_type": "markdown",
   "metadata": {},
   "source": [
    "<div class=\"alert alert-block alert-danger\">\n",
    "\n",
    "<b>Comentario del revisor</b> <a class=\"tocSkip\"></a>\n",
    "\n",
    "Describi los datos - y su distribucion- observados en este dataset y concluí al respecto de los cambios realizado. Esta parte es muy importante debido que es aquí donde también esta nuestro valor, ya que el cliente podrá no entender el código pero si el análisis o la descripcion.\n",
    "\n",
    "Recorda hacer este tipo de comentarios en formato **markdown** que es el adecuado para ello.</div>\n",
    "\n",
    "<div class=\"alert alert-block alert-success\">\n",
    "\n",
    "<b>Comentario del revisor #2</b> <a class=\"tocSkip\"></a>\n",
    "\n",
    "Corregido.</div>"
   ]
  },
  {
   "cell_type": "markdown",
   "metadata": {},
   "source": [
    "<div class=\"alert alert-block alert-info\">\n",
    "Resuelto.</div>"
   ]
  },
  {
   "cell_type": "markdown",
   "metadata": {
    "id": "EzOG5ik30q1D"
   },
   "source": [
    "- Las columnas que contienen fechas son del tipo object, esto se puede solucionar cambiando los tipos de datos de estas columnas al tipo datetime.  \n",
    "- En promedio los usuarios utilizan 366mb para navegacion donde el 75% utiliza alrededor de 554mb o menos.  "
   ]
  },
  {
   "cell_type": "markdown",
   "metadata": {
    "id": "yA0tkPFg0q1D"
   },
   "source": [
    "### Corregir los datos"
   ]
  },
  {
   "cell_type": "code",
   "execution_count": 26,
   "metadata": {
    "id": "zVeanzdd0q1E"
   },
   "outputs": [],
   "source": [
    "internet['session_date'] = pd.to_datetime(internet['session_date'], format='%Y-%m-%d') #Transformamos a datetime las fechas"
   ]
  },
  {
   "cell_type": "markdown",
   "metadata": {
    "id": "e8_mLF4a0q1E"
   },
   "source": [
    "### Enriquecer los datos"
   ]
  },
  {
   "cell_type": "code",
   "execution_count": 27,
   "metadata": {
    "id": "ESiYPIEK0q1E"
   },
   "outputs": [
    {
     "name": "stdout",
     "output_type": "stream",
     "text": [
      "             id  user_id session_date  mb_used  month\n",
      "15709  1071_343     1071   2018-06-29    23.11      6\n",
      "94392   1440_30     1440   2018-06-07   207.56      6\n",
      "67205  1312_428     1312   2018-07-17   339.61      7\n",
      "51738  1232_318     1232   2018-08-07   218.82      8\n",
      "84090   1392_58     1392   2018-09-07   390.96      9\n"
     ]
    }
   ],
   "source": [
    "internet['month'] = pd.DatetimeIndex(internet['session_date']).month #Guardamos el mes en una nueva variable\n",
    "print(internet.sample(5))"
   ]
  },
  {
   "cell_type": "markdown",
   "metadata": {
    "id": "3UA2cqIW0q1E"
   },
   "source": [
    "## Estudiar las condiciones de las tarifas"
   ]
  },
  {
   "cell_type": "code",
   "execution_count": 28,
   "metadata": {
    "id": "i409op8p0q1F"
   },
   "outputs": [
    {
     "name": "stdout",
     "output_type": "stream",
     "text": [
      "   messages_included  mb_per_month_included  minutes_included  \\\n",
      "0                 50                  15360               500   \n",
      "1               1000                  30720              3000   \n",
      "\n",
      "   usd_monthly_pay  usd_per_gb  usd_per_message  usd_per_minute      plan  \n",
      "0               20          10             0.03            0.03      surf  \n",
      "1               70           7             0.01            0.01  ultimate  \n"
     ]
    }
   ],
   "source": [
    "# Imprime las condiciones de la tarifa y asegúrate de que te quedan claras\n",
    "print(plans)"
   ]
  },
  {
   "cell_type": "markdown",
   "metadata": {
    "id": "hMR1tP5d0q1F"
   },
   "source": [
    "## Agregar datos por usuario\n"
   ]
  },
  {
   "cell_type": "code",
   "execution_count": 29,
   "metadata": {
    "id": "A332cedB0q1G"
   },
   "outputs": [
    {
     "name": "stdout",
     "output_type": "stream",
     "text": [
      "   user_id  month  calls_made\n",
      "0     1000     12          16\n",
      "1     1001      8          27\n",
      "2     1001      9          49\n",
      "3     1001     10          65\n",
      "4     1001     11          64\n"
     ]
    }
   ],
   "source": [
    "# Calcula el número de llamadas hechas por cada usuario al mes. Guarda el resultado.\n",
    "calls['duration'] = calls['duration'].apply(np.ceil) #Redondeamos cada llamada individual \n",
    "number_of_calls = calls.groupby(['user_id', 'month'])['duration'].agg(['count']).reset_index() \n",
    "number_of_calls.columns = ['user_id', 'month','calls_made']\n",
    "print(number_of_calls.head(5))\n"
   ]
  },
  {
   "cell_type": "markdown",
   "metadata": {},
   "source": [
    "<div class=\"alert alert-block alert-warning\">\n",
    "\n",
    "<b>Comentario del revisor</b> <a class=\"tocSkip\"></a>\n",
    "\n",
    "Utilizas muy bien el ceil, como recomendacion lo podes hacer mucho mas simple, utiliza el metodo y dentro la columna que desees aplicar el ceil\n",
    "\n",
    "metodo(dataset['columna que necesites'])</div>"
   ]
  },
  {
   "cell_type": "markdown",
   "metadata": {},
   "source": [
    "<div class=\"alert alert-block alert-warning\">\n",
    "\n",
    "<b>Comentario del revisor</b> <a class=\"tocSkip\"></a>\n",
    "\n",
    "Esta perfecto la utilizacion del ceil en `calls`\n",
    "\n",
    "Como consejo, realizalo en la parte de enriquecer los dastos. Esto es debido a que siempre priorizaremos hacer este tipo de cambios en la seccion correspondiente para que a la hora de corregir o modificar algo, siempre sepamos donde ir a buscarlo. Otra cosa que sucede mucho es que otras personas tengan acceso a modificar nuestro proyecto por lo que cumplir este tipo de buenas practicas hara que se creen reglas en comun sin comunicacion alguna. </div>\n",
    "\n",
    "<div class=\"alert alert-block alert-success\">\n",
    "\n",
    "<b>Comentario del revisor #2</b> <a class=\"tocSkip\"></a>\n",
    "\n",
    "Corregido.</div>"
   ]
  },
  {
   "cell_type": "code",
   "execution_count": 30,
   "metadata": {
    "id": "aw2cmuql0q1G"
   },
   "outputs": [
    {
     "name": "stdout",
     "output_type": "stream",
     "text": [
      "   user_id  month  minutes_used\n",
      "0     1000     12           124\n",
      "1     1001      8           182\n",
      "2     1001      9           315\n",
      "3     1001     10           393\n",
      "4     1001     11           426\n"
     ]
    }
   ],
   "source": [
    "# Calcula la cantidad de minutos usados por cada usuario al mes. Guarda el resultado.\n",
    "calls['duration'] = calls['duration'].apply(np.ceil) #Redondeamos cada llamada individual \n",
    "number_of_mins = calls.groupby(['user_id', 'month'])['duration'].agg(['sum']).reset_index()\n",
    "number_of_mins.columns = ['user_id', 'month','minutes_used']\n",
    "number_of_mins['minutes_used'] = number_of_mins['minutes_used'].astype('int')\n",
    "print(number_of_mins.head(5))\n"
   ]
  },
  {
   "cell_type": "code",
   "execution_count": 31,
   "metadata": {
    "id": "CcQvNHn60q1G"
   },
   "outputs": [
    {
     "name": "stdout",
     "output_type": "stream",
     "text": [
      "   user_id  month  month_messages\n",
      "0     1000     12              11\n",
      "1     1001      8              30\n",
      "2     1001      9              44\n",
      "3     1001     10              53\n",
      "4     1001     11              36\n"
     ]
    }
   ],
   "source": [
    "# Calcula el número de mensajes enviados por cada usuario al mes. Guarda el resultado.\n",
    "number_of_messages = messages.groupby(['user_id', 'month'])['id'].agg(['count']).reset_index()\n",
    "number_of_messages.columns = ['user_id', 'month','month_messages']\n",
    "print(number_of_messages.head(5))\n"
   ]
  },
  {
   "cell_type": "code",
   "execution_count": 32,
   "metadata": {
    "id": "H1AqN2eG0q1H"
   },
   "outputs": [
    {
     "name": "stdout",
     "output_type": "stream",
     "text": [
      "   user_id  month  mb_volume  gb_volume\n",
      "0     1000     12    1901.47          2\n",
      "1     1001      8    6919.15          7\n",
      "2     1001      9   13314.82         14\n",
      "3     1001     10   22330.49         22\n",
      "4     1001     11   18504.30         19\n"
     ]
    }
   ],
   "source": [
    "# Calcula el volumen del tráfico de Internet usado por cada usuario al mes. Guarda el resultado.\n",
    "data_volume = internet.groupby(['user_id', 'month'])['mb_used'].agg(['sum']).reset_index() \n",
    "data_volume.columns = ['user_id', 'month','mb_volume']\n",
    "data_volume['gb_volume'] = (data_volume['mb_volume']/1024).apply(np.ceil).astype('int') #Redondeamos los megabytes totales a gigabytes\n",
    "print(data_volume.head(5))\n"
   ]
  },
  {
   "cell_type": "markdown",
   "metadata": {},
   "source": [
    "<div class=\"alert alert-block alert-warning\">\n",
    "\n",
    "<b>Comentario del revisor</b> <a class=\"tocSkip\"></a>\n",
    "\n",
    "Utilizas muy bien el ceil, como recomendacion lo podes hacer mucho mas simple, utiliza el metodo y dentro la columna que desees aplicar el ceil\n",
    "\n",
    "metodo(dataset['columna que necesites'])</div>"
   ]
  },
  {
   "cell_type": "code",
   "execution_count": 33,
   "metadata": {
    "id": "FW99ykyf0q1H"
   },
   "outputs": [
    {
     "name": "stdout",
     "output_type": "stream",
     "text": [
      "   user_id  month  calls_made  minutes_used  month_messages  mb_volume  \\\n",
      "0     1000     12        16.0         124.0            11.0    1901.47   \n",
      "1     1001      8        27.0         182.0            30.0    6919.15   \n",
      "2     1001      9        49.0         315.0            44.0   13314.82   \n",
      "3     1001     10        65.0         393.0            53.0   22330.49   \n",
      "4     1001     11        64.0         426.0            36.0   18504.30   \n",
      "\n",
      "   gb_volume  \n",
      "0        2.0  \n",
      "1        7.0  \n",
      "2       14.0  \n",
      "3       22.0  \n",
      "4       19.0  \n"
     ]
    }
   ],
   "source": [
    "# Fusiona los datos de llamadas, minutos, mensajes e Internet con base en user_id y month\n",
    "monthly_revenue = number_of_calls.merge(right = number_of_mins, on=['user_id','month'], how='outer')\n",
    "monthly_revenue = monthly_revenue.merge(right = number_of_messages, on=['user_id','month'], how='outer')\n",
    "monthly_revenue = monthly_revenue.merge(right=data_volume, on=['user_id','month'], how='outer')\n",
    "print(monthly_revenue.head(5))"
   ]
  },
  {
   "cell_type": "code",
   "execution_count": 34,
   "metadata": {
    "id": "0dNOXHag0q1H"
   },
   "outputs": [
    {
     "name": "stdout",
     "output_type": "stream",
     "text": [
      "   user_id      plan                                   city  month  \\\n",
      "0     1000  ultimate  Atlanta-Sandy Springs-Roswell, GA MSA     12   \n",
      "1     1001      surf        Seattle-Tacoma-Bellevue, WA MSA      8   \n",
      "2     1001      surf        Seattle-Tacoma-Bellevue, WA MSA      9   \n",
      "3     1001      surf        Seattle-Tacoma-Bellevue, WA MSA     10   \n",
      "4     1001      surf        Seattle-Tacoma-Bellevue, WA MSA     11   \n",
      "\n",
      "   calls_made  minutes_used  month_messages  mb_volume  gb_volume  \n",
      "0          16           124              11    1901.47          2  \n",
      "1          27           182              30    6919.15          7  \n",
      "2          49           315              44   13314.82         14  \n",
      "3          65           393              53   22330.49         22  \n",
      "4          64           426              36   18504.30         19  \n",
      "<class 'pandas.core.frame.DataFrame'>\n",
      "Int64Index: 2303 entries, 0 to 2302\n",
      "Data columns (total 9 columns):\n",
      " #   Column          Non-Null Count  Dtype  \n",
      "---  ------          --------------  -----  \n",
      " 0   user_id         2303 non-null   int64  \n",
      " 1   plan            2303 non-null   object \n",
      " 2   city            2303 non-null   object \n",
      " 3   month           2303 non-null   int64  \n",
      " 4   calls_made      2303 non-null   int64  \n",
      " 5   minutes_used    2303 non-null   int64  \n",
      " 6   month_messages  2303 non-null   int64  \n",
      " 7   mb_volume       2303 non-null   float64\n",
      " 8   gb_volume       2303 non-null   int64  \n",
      "dtypes: float64(1), int64(6), object(2)\n",
      "memory usage: 179.9+ KB\n"
     ]
    }
   ],
   "source": [
    "# Añade la información de la tarifa\n",
    "users_2 = users[['user_id', 'plan', 'city']]\n",
    "monthly_revenue = users_2.merge(right = monthly_revenue, on='user_id', how='outer' )\n",
    "monthly_revenue = monthly_revenue.fillna(0)\n",
    "monthly_revenue[['month', 'calls_made', 'minutes_used', 'month_messages', 'gb_volume']] = monthly_revenue[['month', 'calls_made', 'minutes_used', 'month_messages', 'gb_volume']].astype('int')\n",
    "print(monthly_revenue.head(5))\n",
    "monthly_revenue.info()"
   ]
  },
  {
   "cell_type": "code",
   "execution_count": 35,
   "metadata": {
    "id": "5FGCf_c60q1I"
   },
   "outputs": [
    {
     "name": "stdout",
     "output_type": "stream",
     "text": [
      "      user_id      plan                                       city  month  \\\n",
      "412      1085  ultimate      Atlanta-Sandy Springs-Roswell, GA MSA      9   \n",
      "1585     1341      surf     Chicago-Naperville-Elgin, IL-IN-WI MSA     10   \n",
      "348      1073      surf     Chicago-Naperville-Elgin, IL-IN-WI MSA     11   \n",
      "1133     1240      surf                        Baton Rouge, LA MSA     10   \n",
      "464      1099      surf  New York-Newark-Jersey City, NY-NJ-PA MSA      3   \n",
      "\n",
      "      calls_made  minutes_used  month_messages  mb_volume  gb_volume  income  \n",
      "412           59           434               0   22527.13         22   70.00  \n",
      "1585          65           488              44   10692.23         11   20.00  \n",
      "348           39           316               0   12278.82         12   20.00  \n",
      "1133         162          1194               9   42128.84         42  310.82  \n",
      "464           93           728              22   20857.74         21   86.84  \n"
     ]
    }
   ],
   "source": [
    "# Calcula el ingreso mensual para cada usuario\n",
    "\n",
    "surf_dict = {'messages_included': 50,\n",
    " 'mb_per_month_included': 15360,\n",
    " 'minutes_included': 500,\n",
    " 'usd_monthly_pay': 20,\n",
    " 'usd_per_gb': 10,\n",
    " 'usd_per_message': 0.03,\n",
    " 'usd_per_minute': 0.03}\n",
    "\n",
    "\n",
    "ultimate_dict = {'messages_included': 1000,\n",
    " 'mb_per_month_included': 30720,\n",
    " 'minutes_included': 3000,\n",
    " 'usd_monthly_pay': 70,\n",
    " 'usd_per_gb': 7,\n",
    " 'usd_per_message': 0.01,\n",
    " 'usd_per_minute': 0.01}\n",
    "\n",
    "def monthly_charge(row):\n",
    "    \n",
    "    minutes = row['minutes_used']\n",
    "    messages = row['month_messages']\n",
    "    data = row['gb_volume']\n",
    "    plan = row['plan']\n",
    "\n",
    "    if plan == 'surf':\n",
    "        charge = surf_dict['usd_monthly_pay']\n",
    "        if minutes <= surf_dict['minutes_included']:\n",
    "            minutes_extra_charge = 0\n",
    "        else:\n",
    "            minutes_extra_charge =  (minutes - surf_dict['minutes_included']) * surf_dict['usd_per_minute']\n",
    "        if messages <= surf_dict['messages_included']:\n",
    "            messages_extra_charge = 0\n",
    "        else:\n",
    "            messages_extra_charge = (messages - surf_dict['messages_included']) * surf_dict['usd_per_message']\n",
    "        if data <= (surf_dict['mb_per_month_included']/1024):\n",
    "            data_extra_charge = 0\n",
    "        else:\n",
    "            data_extra_charge = (data - (surf_dict['mb_per_month_included']/1024)) * surf_dict['usd_per_gb']\n",
    "        total_charge =  charge + minutes_extra_charge + messages_extra_charge + data_extra_charge\n",
    "        return total_charge\n",
    "    \n",
    "    elif plan == 'ultimate':\n",
    "        charge = ultimate_dict['usd_monthly_pay']\n",
    "        if minutes <= (ultimate_dict['minutes_included']):\n",
    "            minutes_extra_charge = 0\n",
    "        else:\n",
    "            minutes_extra_charge =  (minutes - ultimate_dict['minutes_included']) * ultimate_dict['usd_per_minute']\n",
    "        if messages <= (ultimate_dict['messages_included']):\n",
    "            messages_extra_charge = 0\n",
    "        else:\n",
    "            messages_extra_charge = ((messages - ultimate_dict['messages_included']) * ultimate_dict['usd_per_message'])\n",
    "        if data <= (ultimate_dict['mb_per_month_included']/1024):\n",
    "            data_extra_charge = 0\n",
    "        else:\n",
    "            data_extra_charge = (data - (ultimate_dict['mb_per_month_included']/1024)) * ultimate_dict['usd_per_gb']\n",
    "        total_charge =  charge + minutes_extra_charge + messages_extra_charge + data_extra_charge\n",
    "        return total_charge\n",
    "        \n",
    "\n",
    "monthly_revenue['income'] = monthly_revenue.apply(monthly_charge, axis=1)\n",
    "print(monthly_revenue.sample(5))"
   ]
  },
  {
   "cell_type": "markdown",
   "metadata": {},
   "source": [
    "- En esta seccion de codigo se extrajo informacion importante y ademas se unio informacion de unos dataframes con otros, para que de esta manera tenerlos agrupados con informacion que sea mas sustancial para los calculos posteriores.  \n",
    "- Con los dataframes unidos de manera correcta ademas se definio una funcion para poder calcular el consumo mensual de cada uno de los clientes."
   ]
  },
  {
   "cell_type": "markdown",
   "metadata": {},
   "source": [
    "<div class=\"alert alert-block alert-danger\">\n",
    "\n",
    "<b>Comentario del revisor</b> <a class=\"tocSkip\"></a>\n",
    "\n",
    "Describi y concluí al respecto de todo lo realizado en en esta sección. Esta parte es muy importante debido que es aquí donde también esta nuestro valor, ya que el cliente podrá no entender el código pero si el análisis o la descripcion.</div>\n",
    "\n",
    "<div class=\"alert alert-block alert-success\">\n",
    "\n",
    "<b>Comentario del revisor #2</b> <a class=\"tocSkip\"></a>\n",
    "\n",
    "Corregido, muy bien.</div>"
   ]
  },
  {
   "cell_type": "markdown",
   "metadata": {},
   "source": [
    "<div class=\"alert alert-block alert-info\">\n",
    "Solucionado.</div>"
   ]
  },
  {
   "cell_type": "markdown",
   "metadata": {
    "id": "-jtyHzJb0q1I"
   },
   "source": [
    "## Estudia el comportamiento de usuario"
   ]
  },
  {
   "cell_type": "markdown",
   "metadata": {
    "id": "vtW4CJEe0q1J"
   },
   "source": [
    "### Llamadas"
   ]
  },
  {
   "cell_type": "code",
   "execution_count": 36,
   "metadata": {
    "id": "Jf5v5--k0q1J"
   },
   "outputs": [
    {
     "name": "stdout",
     "output_type": "stream",
     "text": [
      "La media de llamadas del plan surf es: 59.584547181760605\n"
     ]
    },
    {
     "data": {
      "image/png": "[encoded data removed]",
      "text/plain": [
       "<Figure size 1000x600 with 1 Axes>"
      ]
     },
     "metadata": {},
     "output_type": "display_data"
    },
    {
     "name": "stdout",
     "output_type": "stream",
     "text": [
      "La media de llamadas del plan ultimate es: 60.2914364640884\n"
     ]
    },
    {
     "data": {
      "image/png": "[encoded data removed]",
      "text/plain": [
       "<Figure size 1000x600 with 1 Axes>"
      ]
     },
     "metadata": {},
     "output_type": "display_data"
    }
   ],
   "source": [
    "# Compara la duración promedio de llamadas por cada plan y por cada mes. Traza un gráfico de barras para visualizarla.\n",
    "monthly_revenue_surf = monthly_revenue[monthly_revenue['plan']=='surf']\n",
    "surf_mean_calls = monthly_revenue_surf['calls_made'].mean()\n",
    "print('La media de llamadas del plan surf es:', surf_mean_calls)\n",
    "monthly_revenue_surf['calls_made'].plot(kind='hist', bins=50, figsize=(10,6), color='deepskyblue', ylim= (0,100))\n",
    "plt.xlabel('LLamadas realizadas')\n",
    "plt.title('Distribucion de la cantidad de llamadas realizadas en el plan Surf')\n",
    "plt.show()\n",
    "monthly_revenue_ultimate = monthly_revenue[monthly_revenue['plan']=='ultimate']\n",
    "ultimate_mean_calls = monthly_revenue_ultimate['calls_made'].mean()\n",
    "print('La media de llamadas del plan ultimate es:', ultimate_mean_calls)\n",
    "monthly_revenue_ultimate['calls_made'].plot(kind='hist', bins=50, figsize=(10,6), color='orange', ylim= (0,100))\n",
    "plt.xlabel('LLamadas realizadas')\n",
    "plt.title('Distribucion de la cantidad de llamadas realizadas en el plan Ultimate')\n",
    "plt.show()"
   ]
  },
  {
   "cell_type": "code",
   "execution_count": null,
   "metadata": {},
   "outputs": [],
   "source": []
  },
  {
   "cell_type": "code",
   "execution_count": 37,
   "metadata": {},
   "outputs": [
    {
     "data": {
      "image/png": "[encoded data removed]",
      "text/plain": [
       "<Figure size 640x480 with 1 Axes>"
      ]
     },
     "metadata": {},
     "output_type": "display_data"
    }
   ],
   "source": [
    "plt.bar(monthly_revenue_surf['calls_made'],monthly_revenue_surf['calls_made'].count())\n",
    "plt.show()"
   ]
  },
  {
   "cell_type": "markdown",
   "metadata": {},
   "source": [
    "<div class=\"alert alert-block alert-warning\">\n",
    "\n",
    "<b>Comentario del revisor</b> <a class=\"tocSkip\"></a>\n",
    "\n",
    "Recorda realizar un grafico de barras.</div>\n",
    "\n",
    "<div class=\"alert alert-block alert-warning\">\n",
    "\n",
    "<b>Comentario del revisor #2</b> <a class=\"tocSkip\"></a>\n",
    "\n",
    "En este caso en el eje x dejas cada mes y en el Y podrias hacer uan agrupacion entre el plan y el mes, ordenando por minutos  por mes, sobre eso podes extraer la media. De esa manera tendras los valores de ambos planes (de su media).</div>"
   ]
  },
  {
   "cell_type": "markdown",
   "metadata": {},
   "source": [
    "<div class=\"alert alert-block alert-info\">\n",
    "No logro entender cual argumento deberia usar en los ejes para el grafico de barras para poder representar.</div>"
   ]
  },
  {
   "cell_type": "code",
   "execution_count": 38,
   "metadata": {
    "id": "QoLqW1S_0q1J"
   },
   "outputs": [
    {
     "name": "stdout",
     "output_type": "stream",
     "text": [
      "La media de minutos utilizados del plan surf es: 427.12032932235593\n"
     ]
    },
    {
     "data": {
      "image/png": "[encoded data removed]",
      "text/plain": [
       "<Figure size 1000x600 with 1 Axes>"
      ]
     },
     "metadata": {},
     "output_type": "display_data"
    },
    {
     "name": "stdout",
     "output_type": "stream",
     "text": [
      "La media de minutos utilizados del plan Ultimate es: 428.0718232044199\n"
     ]
    },
    {
     "data": {
      "image/png": "[encoded data removed]",
      "text/plain": [
       "<Figure size 1000x600 with 1 Axes>"
      ]
     },
     "metadata": {},
     "output_type": "display_data"
    }
   ],
   "source": [
    "# Compara el número de minutos mensuales que necesitan los usuarios de cada plan. Traza un histograma.\n",
    "surf_mean_minutes = monthly_revenue_surf['minutes_used'].mean()\n",
    "print('La media de minutos utilizados del plan surf es:', surf_mean_minutes)\n",
    "monthly_revenue_surf['minutes_used'].plot(kind='hist', bins=50, figsize=(10,6), color='deepskyblue')\n",
    "plt.xlabel('Duracion de las llamadas en minutos')\n",
    "plt.title('Distribucion de los minutos utilizados en el plan Surf')\n",
    "plt.show()\n",
    "ultimate_mean_minutes = monthly_revenue_ultimate['minutes_used'].mean()\n",
    "print('La media de minutos utilizados del plan Ultimate es:', ultimate_mean_minutes)\n",
    "monthly_revenue_ultimate['minutes_used'].plot(kind='hist', bins=50, figsize=(10,6), color='orange')\n",
    "plt.xlabel('LLamadas realizadas')\n",
    "plt.title('Distribucion de los minutos utilizados en el plan Ultimate')\n",
    "plt.show()"
   ]
  },
  {
   "cell_type": "code",
   "execution_count": 39,
   "metadata": {
    "id": "oSndbAnt0q1K"
   },
   "outputs": [
    {
     "name": "stdout",
     "output_type": "stream",
     "text": [
      "Informacion estadistica del tiempo de llamadas del plan surf:\n",
      "count    1579.000000\n",
      "mean      427.120329\n",
      "std       235.490079\n",
      "min         0.000000\n",
      "25%       269.000000\n",
      "50%       424.000000\n",
      "75%       576.000000\n",
      "max      1510.000000\n",
      "Name: minutes_used, dtype: float64\n",
      "Informacion estadistica del tiempo de llamadas del plan ultimate:\n",
      "count     724.000000\n",
      "mean      428.071823\n",
      "std       241.958423\n",
      "min         0.000000\n",
      "25%       258.750000\n",
      "50%       421.500000\n",
      "75%       564.250000\n",
      "max      1369.000000\n",
      "Name: minutes_used, dtype: float64\n"
     ]
    }
   ],
   "source": [
    "# Calcula la media y la varianza de la duración mensual de llamadas.\n",
    "print('Informacion estadistica del tiempo de llamadas del plan surf:')\n",
    "print(monthly_revenue_surf['minutes_used'].describe())\n",
    "print('Informacion estadistica del tiempo de llamadas del plan ultimate:')\n",
    "print(monthly_revenue_ultimate['minutes_used'].describe())\n"
   ]
  },
  {
   "cell_type": "code",
   "execution_count": 40,
   "metadata": {
    "id": "nZzoRUKc0q1K"
   },
   "outputs": [
    {
     "name": "stdout",
     "output_type": "stream",
     "text": [
      "AxesSubplot(0.125,0.11;0.775x0.77)\n"
     ]
    },
    {
     "data": {
      "image/png": "[encoded data removed]",
      "text/plain": [
       "<Figure size 640x480 with 1 Axes>"
      ]
     },
     "metadata": {},
     "output_type": "display_data"
    },
    {
     "name": "stdout",
     "output_type": "stream",
     "text": [
      "AxesSubplot(0.125,0.11;0.775x0.77)\n"
     ]
    },
    {
     "data": {
      "image/png": "[encoded data removed]",
      "text/plain": [
       "<Figure size 640x480 with 1 Axes>"
      ]
     },
     "metadata": {},
     "output_type": "display_data"
    }
   ],
   "source": [
    "# Traza un diagrama de caja para visualizar la distribución de la duración mensual de llamadas\n",
    "print(sns.boxplot(monthly_revenue_surf['minutes_used']))\n",
    "plt.show()\n",
    "print(sns.boxplot(monthly_revenue_ultimate['minutes_used']))\n",
    "plt.show()"
   ]
  },
  {
   "cell_type": "markdown",
   "metadata": {
    "id": "r627zBO50q1K"
   },
   "source": [
    "Conclusiones\n",
    "- Las distribuciones tanto de llamadas por mes asi como de minutos consumidos al mes para ambos planes se asemejan a distribuciones normales.  \n",
    "- La media de cantidad de llamadas del plan surf y ultimate son muy cercanas.  \n",
    "- Una cantidad considerable de usuarios exceden el limite de tiempo de llamadas del plan surf.  \n",
    "- En resumen el comportamiento de los usuarios para ambos planes es bastante similar."
   ]
  },
  {
   "cell_type": "markdown",
   "metadata": {
    "id": "8idKy8Wh0q1L"
   },
   "source": [
    "### Mensajes"
   ]
  },
  {
   "cell_type": "code",
   "execution_count": 41,
   "metadata": {
    "id": "NXLxiTit0q1L"
   },
   "outputs": [
    {
     "name": "stdout",
     "output_type": "stream",
     "text": [
      "La media de mensajes del plan surf es: 31.041165294490185\n"
     ]
    },
    {
     "data": {
      "image/png": "[encoded data removed]",
      "text/plain": [
       "<Figure size 1000x600 with 1 Axes>"
      ]
     },
     "metadata": {},
     "output_type": "display_data"
    },
    {
     "name": "stdout",
     "output_type": "stream",
     "text": [
      "La media de mensajes del plan ultimate es: 37.3439226519337\n"
     ]
    },
    {
     "data": {
      "image/png": "[encoded data removed]",
      "text/plain": [
       "<Figure size 1000x600 with 1 Axes>"
      ]
     },
     "metadata": {},
     "output_type": "display_data"
    },
    {
     "name": "stdout",
     "output_type": "stream",
     "text": [
      "Informacion estadistica de mensajes del plan surf:\n",
      "count    1579.000000\n",
      "mean       31.041165\n",
      "std        33.557683\n",
      "min         0.000000\n",
      "25%         3.000000\n",
      "50%        24.000000\n",
      "75%        47.000000\n",
      "max       266.000000\n",
      "Name: month_messages, dtype: float64\n",
      "Informacion estadistica de mensajes del plan ultimate:\n",
      "count    724.000000\n",
      "mean      37.343923\n",
      "std       34.782576\n",
      "min        0.000000\n",
      "25%        6.000000\n",
      "50%       30.000000\n",
      "75%       60.250000\n",
      "max      166.000000\n",
      "Name: month_messages, dtype: float64\n"
     ]
    }
   ],
   "source": [
    "# Comprara el número de mensajes que tienden a enviar cada mes los usuarios de cada plan\n",
    "surf_mean_messages = monthly_revenue_surf['month_messages'].mean()\n",
    "print('La media de mensajes del plan surf es:', surf_mean_messages)\n",
    "monthly_revenue_surf['month_messages'].plot(kind='hist', bins=50, figsize=(10,6), color='deepskyblue')\n",
    "plt.xlabel('Mensajes enviados')\n",
    "plt.title('Distribucion de mensajes enviados en el plan Surf')\n",
    "plt.show()\n",
    "ultimate_mean_messages = monthly_revenue_ultimate['month_messages'].mean()\n",
    "print('La media de mensajes del plan ultimate es:', ultimate_mean_messages)\n",
    "monthly_revenue_ultimate['month_messages'].plot(kind='hist', bins=50, figsize=(10,6), color='orange')\n",
    "plt.xlabel('Mensajes enviados')\n",
    "plt.title('Distribucion de mensajes enviados en el plan Ultimate')\n",
    "plt.show()\n",
    "print('Informacion estadistica de mensajes del plan surf:')\n",
    "print(monthly_revenue_surf['month_messages'].describe())\n",
    "print('Informacion estadistica de mensajes del plan ultimate:')\n",
    "print(monthly_revenue_ultimate['month_messages'].describe())\n",
    "\n"
   ]
  },
  {
   "cell_type": "code",
   "execution_count": 42,
   "metadata": {},
   "outputs": [
    {
     "name": "stdout",
     "output_type": "stream",
     "text": [
      "AxesSubplot(0.125,0.11;0.775x0.77)\n"
     ]
    },
    {
     "data": {
      "image/png": "[encoded data removed]",
      "text/plain": [
       "<Figure size 640x480 with 1 Axes>"
      ]
     },
     "metadata": {},
     "output_type": "display_data"
    },
    {
     "name": "stdout",
     "output_type": "stream",
     "text": [
      "AxesSubplot(0.125,0.11;0.775x0.77)\n"
     ]
    },
    {
     "data": {
      "image/png": "[encoded data removed]",
      "text/plain": [
       "<Figure size 640x480 with 1 Axes>"
      ]
     },
     "metadata": {},
     "output_type": "display_data"
    }
   ],
   "source": [
    "# Traza un diagrama de caja para visualizar la distribución de los mensajes mensuales\n",
    "print(sns.boxplot(monthly_revenue_ultimate['month_messages']))\n",
    "plt.show()\n",
    "print(sns.boxplot(monthly_revenue_ultimate['month_messages']))\n",
    "plt.show()"
   ]
  },
  {
   "cell_type": "markdown",
   "metadata": {},
   "source": [
    "<div class=\"alert alert-block alert-warning\">\n",
    "\n",
    "<b>Comentario del revisor</b> <a class=\"tocSkip\"></a>\n",
    "\n",
    "Recorda realizar un grafico de barras.</div>\n",
    "\n",
    "<div class=\"alert alert-block alert-warning\">\n",
    "\n",
    "<b>Comentario del revisor #2</b> <a class=\"tocSkip\"></a>\n",
    "\n",
    "En este caso en el eje x dejas cada mes y en el Y podrias hacer uan agrupacion entre el plan y el mes, ordenando por mensajes  por mes, sobre eso podes extraer la media. De esa manera tendras los valores de ambos planes (de su media).</div>\n",
    "\n",
    "\n",
    "<div class=\"alert alert-block alert-danger\">\n",
    "\n",
    "<b>Comentario del revisor</b> <a class=\"tocSkip\"></a>\n",
    "\n",
    "Recorda realizar un boxplot.</div>\n",
    "\n",
    "<div class=\"alert alert-block alert-success\">\n",
    "\n",
    "<b>Comentario del revisor #2</b> <a class=\"tocSkip\"></a>\n",
    "\n",
    "Corregido.</div>"
   ]
  },
  {
   "cell_type": "markdown",
   "metadata": {},
   "source": [
    "<div class=\"alert alert-block alert-info\">\n",
    "Resolvi el diagrama de caja pero no se que argumentos usar para el grafico de barras.</div>"
   ]
  },
  {
   "cell_type": "markdown",
   "metadata": {
    "id": "390SSL480q1M"
   },
   "source": [
    "Conclusiones \n",
    "- En ambos planes existe un gran porcentaje de usuarios que no envian mensajes.  \n",
    "- La media de mensajes enviados en ambos casos es muy similar.  \n",
    "- Al menos el 75% de usuarios del plan surf estan dentro del limite de mensajes.  \n",
    "- Su comportamiento no varia considerablemente en funcion del plan."
   ]
  },
  {
   "cell_type": "markdown",
   "metadata": {
    "id": "42YSypXz0q1M"
   },
   "source": [
    "### Internet"
   ]
  },
  {
   "cell_type": "code",
   "execution_count": 43,
   "metadata": {
    "id": "lSuKPtjh0q1M"
   },
   "outputs": [
    {
     "name": "stdout",
     "output_type": "stream",
     "text": [
      "La media de Gb utilizados en el plan surf es: 16.60734642178594\n"
     ]
    },
    {
     "data": {
      "image/png": "[encoded data removed]",
      "text/plain": [
       "<Figure size 1000x600 with 1 Axes>"
      ]
     },
     "metadata": {},
     "output_type": "display_data"
    },
    {
     "name": "stdout",
     "output_type": "stream",
     "text": [
      "La media de Gb utilizados en el plan ultimate es: 17.21132596685083\n"
     ]
    },
    {
     "data": {
      "image/png": "[encoded data removed]",
      "text/plain": [
       "<Figure size 1000x600 with 1 Axes>"
      ]
     },
     "metadata": {},
     "output_type": "display_data"
    },
    {
     "name": "stdout",
     "output_type": "stream",
     "text": [
      "Informacion estadistica del trafico de internet del plan surf:\n",
      "count    1579.000000\n",
      "mean       16.607346\n",
      "std         7.899502\n",
      "min         0.000000\n",
      "25%        12.000000\n",
      "50%        17.000000\n",
      "75%        21.000000\n",
      "max        70.000000\n",
      "Name: gb_volume, dtype: float64\n",
      "Informacion estadistica del trafico de internet del plan ultimate:\n",
      "count    724.000000\n",
      "mean      17.211326\n",
      "std        7.755841\n",
      "min        0.000000\n",
      "25%       13.000000\n",
      "50%       17.000000\n",
      "75%       21.000000\n",
      "max       46.000000\n",
      "Name: gb_volume, dtype: float64\n"
     ]
    }
   ],
   "source": [
    "# Comprara el número de mensajes que tienden a enviar cada mes los usuarios de cada plan\n",
    "surf_mean_internet = monthly_revenue_surf['gb_volume'].mean()\n",
    "print('La media de Gb utilizados en el plan surf es:', surf_mean_internet)\n",
    "monthly_revenue_surf['gb_volume'].plot(kind='hist', bins=50, figsize=(10,6), color='deepskyblue')\n",
    "plt.xlabel('Gb utilizados')\n",
    "plt.title('Distribucion del trafico de internet en el plan Surf')\n",
    "plt.show()\n",
    "ultimate_mean_internet = monthly_revenue_ultimate['gb_volume'].mean()\n",
    "print('La media de Gb utilizados en el plan ultimate es:', ultimate_mean_internet)\n",
    "monthly_revenue_ultimate['gb_volume'].plot(kind='hist', bins=50, figsize=(10,6), color='orange')\n",
    "plt.xlabel('Gb utilizados')\n",
    "plt.title('Distribucion del trafico de internet en el plan Ultimate')\n",
    "plt.show()\n",
    "print('Informacion estadistica del trafico de internet del plan surf:')\n",
    "print(monthly_revenue_surf['gb_volume'].describe())\n",
    "print('Informacion estadistica del trafico de internet del plan ultimate:')\n",
    "print(monthly_revenue_ultimate['gb_volume'].describe())"
   ]
  },
  {
   "cell_type": "code",
   "execution_count": 44,
   "metadata": {},
   "outputs": [
    {
     "name": "stdout",
     "output_type": "stream",
     "text": [
      "AxesSubplot(0.125,0.11;0.775x0.77)\n"
     ]
    },
    {
     "data": {
      "image/png": "[encoded data removed]",
      "text/plain": [
       "<Figure size 640x480 with 1 Axes>"
      ]
     },
     "metadata": {},
     "output_type": "display_data"
    },
    {
     "name": "stdout",
     "output_type": "stream",
     "text": [
      "AxesSubplot(0.125,0.11;0.775x0.77)\n"
     ]
    },
    {
     "data": {
      "image/png": "[encoded data removed]",
      "text/plain": [
       "<Figure size 640x480 with 1 Axes>"
      ]
     },
     "metadata": {},
     "output_type": "display_data"
    }
   ],
   "source": [
    "# Traza un diagrama de caja para visualizar la distribución de los mensajes mensuales\n",
    "print(sns.boxplot(monthly_revenue_surf['gb_volume']))\n",
    "plt.show()\n",
    "print(sns.boxplot(monthly_revenue_surf['gb_volume']))\n",
    "plt.show()"
   ]
  },
  {
   "cell_type": "markdown",
   "metadata": {},
   "source": [
    "<div class=\"alert alert-block alert-warning\">\n",
    "\n",
    "<b>Comentario del revisor</b> <a class=\"tocSkip\"></a>\n",
    "\n",
    "Recorda realizar un grafico de barras.</div>\n",
    "\n",
    "<div class=\"alert alert-block alert-warning\">\n",
    "\n",
    "<b>Comentario del revisor #2</b> <a class=\"tocSkip\"></a>\n",
    "\n",
    "En este caso en el eje x dejas cada mes y en el Y podrias hacer uan agrupacion entre el plan y el mes, ordenando por el uso de gb por mes, sobre eso podes extraer la media. De esa manera tendras los valores de ambos planes (de su media).</div>\n",
    "\n",
    "<div class=\"alert alert-block alert-danger\">\n",
    "\n",
    "<b>Comentario del revisor</b> <a class=\"tocSkip\"></a>\n",
    "\n",
    "Recorda realizar un boxplot.</div>\n",
    "\n",
    "<div class=\"alert alert-block alert-success\">\n",
    "\n",
    "<b>Comentario del revisor #2</b> <a class=\"tocSkip\"></a>\n",
    "\n",
    "Corregido.</div>"
   ]
  },
  {
   "cell_type": "markdown",
   "metadata": {},
   "source": [
    "<div class=\"alert alert-block alert-info\">\n",
    "Resolvi el diagrama de caja pero no se que argumentos usar para el grafico de barras.</div>"
   ]
  },
  {
   "cell_type": "markdown",
   "metadata": {
    "id": "UN9zwuMP0q1N"
   },
   "source": [
    "Conclusiones\n",
    "- La distribucion del trafico de internet para ambos planes se asemeja a una distribucion normal.  \n",
    "- La media de trafico de internet para ambos planes es mu similar.  \n",
    "- Al menos un 25% de usuarios del plan surf exceden el limite de trafico considerablemente.  \n",
    "- El comportamiento de los usuarios de ambos planes es muy similar."
   ]
  },
  {
   "cell_type": "markdown",
   "metadata": {
    "id": "tCijq3260q1N"
   },
   "source": [
    "## Ingreso"
   ]
  },
  {
   "cell_type": "code",
   "execution_count": 45,
   "metadata": {
    "id": "tz-dq_V00q1O"
   },
   "outputs": [
    {
     "name": "stdout",
     "output_type": "stream",
     "text": [
      "La media de ingresos generados en el plan surf es: 60.551728942368584\n"
     ]
    },
    {
     "data": {
      "image/png": "[encoded data removed]",
      "text/plain": [
       "<Figure size 1000x600 with 1 Axes>"
      ]
     },
     "metadata": {},
     "output_type": "display_data"
    },
    {
     "name": "stdout",
     "output_type": "stream",
     "text": [
      "La media de ingresos generados en el plan ultimate es: 72.3011049723757\n"
     ]
    },
    {
     "data": {
      "image/png": "[encoded data removed]",
      "text/plain": [
       "<Figure size 1000x600 with 1 Axes>"
      ]
     },
     "metadata": {},
     "output_type": "display_data"
    },
    {
     "name": "stdout",
     "output_type": "stream",
     "text": [
      "Informacion estadistica de ingresos del plan surf:\n",
      "count    1579.000000\n",
      "mean       60.551729\n",
      "std        55.339379\n",
      "min        20.000000\n",
      "25%        20.000000\n",
      "50%        40.180000\n",
      "75%        80.315000\n",
      "max       590.370000\n",
      "Name: income, dtype: float64\n",
      "Informacion estadistica de ingresos del plan ultimate:\n",
      "count    724.000000\n",
      "mean      72.301105\n",
      "std       11.364839\n",
      "min       70.000000\n",
      "25%       70.000000\n",
      "50%       70.000000\n",
      "75%       70.000000\n",
      "max      182.000000\n",
      "Name: income, dtype: float64\n"
     ]
    }
   ],
   "source": [
    "surf_mean_income = monthly_revenue_surf['income'].mean()\n",
    "print('La media de ingresos generados en el plan surf es:', surf_mean_income)\n",
    "monthly_revenue_surf['income'].plot(kind='hist', bins=100, figsize=(10,6), color='deepskyblue')\n",
    "plt.xlabel('Ingresos en dolares')\n",
    "plt.title('Distribucion de ingresos del plan Surf')\n",
    "plt.show()\n",
    "ultimate_mean_income = monthly_revenue_ultimate['income'].mean()\n",
    "print('La media de ingresos generados en el plan ultimate es:', ultimate_mean_income)\n",
    "monthly_revenue_ultimate['income'].plot(kind='hist', bins=100, figsize=(10,6), color='orange')\n",
    "plt.xlabel('Ingresos en dolares')\n",
    "plt.title('Distribucion de ingresos del plan Ultimate')\n",
    "plt.show()\n",
    "print('Informacion estadistica de ingresos del plan surf:')\n",
    "print(monthly_revenue_surf['income'].describe())\n",
    "print('Informacion estadistica de ingresos del plan ultimate:')\n",
    "print(monthly_revenue_ultimate['income'].describe())"
   ]
  },
  {
   "cell_type": "code",
   "execution_count": 46,
   "metadata": {},
   "outputs": [
    {
     "name": "stdout",
     "output_type": "stream",
     "text": [
      "AxesSubplot(0.125,0.11;0.775x0.77)\n"
     ]
    },
    {
     "data": {
      "image/png": "[encoded data removed]",
      "text/plain": [
       "<Figure size 640x480 with 1 Axes>"
      ]
     },
     "metadata": {},
     "output_type": "display_data"
    },
    {
     "name": "stdout",
     "output_type": "stream",
     "text": [
      "AxesSubplot(0.125,0.11;0.775x0.77)\n"
     ]
    },
    {
     "data": {
      "image/png": "[encoded data removed]",
      "text/plain": [
       "<Figure size 640x480 with 1 Axes>"
      ]
     },
     "metadata": {},
     "output_type": "display_data"
    }
   ],
   "source": [
    "# Traza un diagrama de caja para visualizar la distribución de los mensajes mensuales\n",
    "print(sns.boxplot(monthly_revenue_ultimate['income']))\n",
    "plt.show()\n",
    "print(sns.boxplot(monthly_revenue_ultimate['income']))\n",
    "plt.show()"
   ]
  },
  {
   "cell_type": "markdown",
   "metadata": {},
   "source": [
    "<div class=\"alert alert-block alert-warning\">\n",
    "\n",
    "<b>Comentario del revisor</b> <a class=\"tocSkip\"></a>\n",
    "\n",
    "Recorda realizar un grafico de barras.</div>\n",
    "<div class=\"alert alert-block alert-danger\">\n",
    "\n",
    "<b>Comentario del revisor</b> <a class=\"tocSkip\"></a>\n",
    "\n",
    "Recorda realizar un boxplot.</div>"
   ]
  },
  {
   "cell_type": "markdown",
   "metadata": {},
   "source": [
    "<div class=\"alert alert-block alert-info\">\n",
    "Realice el boxplot pero no logro comprender el resultado del diagrama obtenido, ademas no se que argumentos utilizar para el grafico de barras.</div>"
   ]
  },
  {
   "cell_type": "markdown",
   "metadata": {
    "id": "KAFidcXZ0q1P"
   },
   "source": [
    "Conclusiones \n",
    "- 75% de los usuarios del plan surf exceden el valor de su plan.  \n",
    "- Ambos planes generan ingresos similares lo cual indica que se deberia ajustar el plan surf."
   ]
  },
  {
   "cell_type": "code",
   "execution_count": 47,
   "metadata": {},
   "outputs": [
    {
     "name": "stdout",
     "output_type": "stream",
     "text": [
      "month\n",
      "0       400.00\n",
      "1       320.00\n",
      "2       679.33\n",
      "3      1316.26\n",
      "4      2522.92\n",
      "5      3697.71\n",
      "6      5385.31\n",
      "7      6815.98\n",
      "8      8477.66\n",
      "9     10178.58\n",
      "10    12585.25\n",
      "11    15045.57\n",
      "12    17735.68\n",
      "Name: minutes_income, dtype: float64\n"
     ]
    },
    {
     "data": {
      "image/png": "[encoded data removed]",
      "text/plain": [
       "<Figure size 640x480 with 1 Axes>"
      ]
     },
     "metadata": {},
     "output_type": "display_data"
    }
   ],
   "source": [
    "#Realizar graficos de linea\n",
    "# Calcula el ingreso mensual para cada usuario\n",
    "\n",
    "def monthly_charge_minutes(row):\n",
    "    \n",
    "    minutes = row['minutes_used']\n",
    "    plan = row['plan']\n",
    "\n",
    "    if plan == 'surf':\n",
    "        charge = surf_dict['usd_monthly_pay']\n",
    "        if minutes <= surf_dict['minutes_included']:\n",
    "            minutes_extra_charge = 0\n",
    "        else:\n",
    "            minutes_extra_charge =  (minutes - surf_dict['minutes_included']) * surf_dict['usd_per_minute']\n",
    "        total_charge =  charge + minutes_extra_charge\n",
    "        return total_charge\n",
    "    \n",
    "    elif plan == 'ultimate':\n",
    "        charge = ultimate_dict['usd_monthly_pay']\n",
    "        if minutes <= (ultimate_dict['minutes_included']):\n",
    "            minutes_extra_charge = 0\n",
    "        else:\n",
    "            minutes_extra_charge =  (minutes - ultimate_dict['minutes_included']) * ultimate_dict['usd_per_minute']\n",
    "        total_charge =  charge + minutes_extra_charge\n",
    "        return total_charge\n",
    "   \n",
    "    \n",
    "#Realizar los calculos\n",
    "monthly_revenue['minutes_income'] = monthly_revenue.apply(monthly_charge_minutes, axis=1)\n",
    "monthly_revenue_minutes = monthly_revenue.groupby('month')['minutes_income'].sum()\n",
    "print(monthly_revenue_minutes)\n",
    "\n",
    "\n",
    "\n",
    "\n",
    "monthly_revenue_minutes.plot(\n",
    "        legend=False,\n",
    "        title='Ingresos por llamadas',\n",
    "        xlabel='Month',\n",
    "        ylabel='Incomes',\n",
    "        rot=45)\n",
    "\n",
    "plt.show()"
   ]
  },
  {
   "cell_type": "markdown",
   "metadata": {},
   "source": [
    "<div class=\"alert alert-block alert-danger\">\n",
    "\n",
    "<b>Comentario del revisor</b> <a class=\"tocSkip\"></a>\n",
    "\n",
    "Realiza un lineplot para observar la evolucion en el tiempo de cada plan en los minutos de llamadas, internet y mensajes, agregando sus ingresos.\n",
    "Podrias hacerlo en dos graficos paralelos uno con un plan y otro en el otro. Pero explora tu imaginacion y hace esa evolucion.</div>\n",
    "\n",
    "<div class=\"alert alert-block alert-warning\">\n",
    "\n",
    "<b>Comentario del revisor #2</b> <a class=\"tocSkip\"></a>\n",
    "\n",
    "Esta  bien el lineplot, seria mas conveniente que extraigas la media de cada mes para ver el crecimiento o no del mismo. Al hacer la suma se toma el totalanterior y se le suma el nuevo porlo que siempreseracreciente.\n",
    "\n",
    "Para almacenarlo en la columna crea una nueva y asignale esos valores (nombre_dataset['columna_nueva'] = valores)</div>"
   ]
  },
  {
   "cell_type": "markdown",
   "metadata": {},
   "source": [
    "<div class=\"alert alert-block alert-info\">\n",
    "Implemente un codigo que me permite visualizar los ingresos obtenidos por llamada, quiero saber si hice una implementacion correcta para ya luego poder segmentar este codigo y dividirlo para que me calcule por separado de cada plan y luego extenderlo para los mensajes y el trafico de internet.  \n",
    "    Otra duda que me surge es saber, cuando agrupo los datos y le aplico alguna operacion como en este caso la suma, como resultado la primera columna es el nombre de la columna en base a la que agrupe, en este caso es 'month', pero la columna que obtuve como resultado no tiene ningun nombre, Como puedo hacer para asignarle un nombre a esta columa?, ya que en los graficos de linea se puede utilizar como argumento x y y, ademas me parece que si la columna que resulta se le puede asignar un nombre asi seria mas facil acceder a sus datos.</div>"
   ]
  },
  {
   "cell_type": "markdown",
   "metadata": {
    "id": "ajJ7VKeI0q1Q"
   },
   "source": [
    "## Prueba las hipótesis estadísticas"
   ]
  },
  {
   "cell_type": "markdown",
   "metadata": {
    "id": "IQwa_hsh0q1Q"
   },
   "source": [
    "Hipotesis:  \n",
    "H0: El ingreso promedio de los usuarios de llamadas Ultimate y Surf es el mismo.  \n",
    "H1: Los ingresos promedio de los usuarios de los planes de llamadas Ultimate y Surf difieren."
   ]
  },
  {
   "cell_type": "code",
   "execution_count": 48,
   "metadata": {
    "id": "nFoPNlPq0q1R"
   },
   "outputs": [
    {
     "name": "stdout",
     "output_type": "stream",
     "text": [
      "3062.4468636121596\n",
      "129.1595561770707\n",
      "\n",
      "p-value:  0.01825509842866833\n",
      "Se rechaza la hipotesis nula\n"
     ]
    }
   ],
   "source": [
    "# Prueba las hipótesis\n",
    "#Verificamos la diferencia entre las varianzas\n",
    "print(monthly_revenue_surf['income'].var())\n",
    "print(monthly_revenue_ultimate['income'].var())\n",
    "print()\n",
    "# La diferencia de las varianzas de ambas poblaciones es superior al 5%\n",
    "sample_s = monthly_revenue_surf['income'].sample(n=80, random_state=42)\n",
    "sample_u = monthly_revenue_ultimate['income'].sample(n=80, random_state=42)\n",
    "alpha = 0.05\n",
    "results = st.ttest_ind(sample_s, sample_u, equal_var=False)\n",
    "print('p-value: ', results.pvalue)\n",
    "if results.pvalue < alpha:\n",
    "    print(\"Se rechaza la hipotesis nula\")\n",
    "else:\n",
    "    print(\"No se puede rechazar la hipotesis nula\") \n"
   ]
  },
  {
   "cell_type": "markdown",
   "metadata": {},
   "source": [
    "<div class=\"alert alert-block alert-warning\">\n",
    "<b>Comentario del revisor </b> <a class=\"tocSkip\"></a>\n",
    "\n",
    "Cuando realizamos la prueba de t.estudent es muy importante un parametro que es el equal_var (False or True), que significa si existe la igualdad de varianzas o no de ambas muestras. En este trabajo no pedimos ser finos con esto pero te lo dejo a modo de que entiendas el porque y te va a servir en futuros proyecto.\n",
    "\n",
    "El bojetivo de la prueba de t de Student es comparar las medias de dos grupos de datos y determinar si existen diferencias significativas entre ellos. Se aplica cuando estamos interesados en saber si la diferencia entre las medias es real o simplemente producto del azar.\n",
    "\n",
    "Para esto generamos dos hipotesis H0 y H1 (nula y alternativa, respectivamente).\n",
    "\n",
    "Hipótesis nula (H0): No hay diferencia significativa entre las medias de los dos grupos.\n",
    "Hipótesis alternativa (H1): Hay una diferencia significativa entre las medias de los dos grupos.\n",
    "\n",
    "En este caso realizas  una observacion de las dos varianzas, lo que no esta mal, pero depender únicamente de la diferencia en los valores de las varianzas puede llevar a conclusiones equivocas, mas que nada si las muestras tienen tamaños diferentes . Las pruebas estadísticas están diseñadas para tomar en cuenta el tamaño de la muestra y calcular si la diferencia observada en las varianzas es estadísticamente significativa o si podría deberse al azar.\n",
    "\n",
    "Para saber lo del equal_var utilizamos La función levene en scipy.stats que se utiliza para realizar una prueba de igualdad de varianzas entre dos grupos de datos. (https://docs.scipy.org/doc/scipy/reference/generated/scipy.stats.levene.html)\n",
    "\n",
    "Los resultados  de esta prueba es muy parecido a lo que hacemos en el t.student. Ya que Si el valor p obtenido en la prueba levene es mayor que un nivel de significancia (alpha) previamente elegido (por ejemplo, 0.05), entonces asumimos que las varianzas son iguales (aceptamos H0).\n",
    "Si el valor p es menor que alpha, rechazamos la hipótesis nula y asumimos que las varianzas son diferentes.\n",
    "\n",
    "Por lo tanto, si las varianzas son iguales (aceptamos H0 en la prueba levene), puedes establecer equal_var=True al realizar la prueba t de Student.\n",
    "Si las varianzas son diferentes (rechazamos H0 en la prueba levene), debes establecer equal_var=False al realizar la prueba t de Student. Esto indica que se debe usar una versión de la prueba t que no asuma igualdad de varianzas, como la prueba Welch's t.\n",
    "\n",
    "Siempre recordar que los outliers pueden impactar negativamente en esta prueba (t.student)\n",
    "\n",
    "Esto es basicamente por lo que te corrijo lo del equal_var pero es como consejo y que lo sepas a futuro. Esta en vos si lo queres modificar o no.\n",
    "\n",
    "</div>"
   ]
  },
  {
   "cell_type": "markdown",
   "metadata": {
    "id": "IQwa_hsh0q1Q"
   },
   "source": [
    "- El valor de ingresos difiere para ambos planes."
   ]
  },
  {
   "cell_type": "markdown",
   "metadata": {
    "id": "LsBgitqj0q1R"
   },
   "source": [
    "Hipotesis:  \n",
    "H0: El ingreso promedio de los usuarios en el área NY-NJ y los usuarios de otras regiones es el mismo.  \n",
    "H1: El ingreso promedio de los usuarios en el área NY-NJ y los usuarios de otras regiones es diferente."
   ]
  },
  {
   "cell_type": "code",
   "execution_count": 49,
   "metadata": {
    "id": "Cqcj7wrZ0q1S"
   },
   "outputs": [
    {
     "name": "stdout",
     "output_type": "stream",
     "text": [
      "Diferencia de varianza entre poblaciones: 0.037631169363707424\n",
      "\n",
      "p-value: 0.13252241975933446\n",
      "No se puede rechazar la hipotesis nula\n"
     ]
    }
   ],
   "source": [
    "# Prueba las hipótesis\n",
    "ny_nj = monthly_revenue.loc[monthly_revenue['city'].str.contains('NY|NJ')]\n",
    "no_ny_nj = monthly_revenue.loc[~monthly_revenue['city'].str.contains('NY|NJ')]\n",
    "#Verificamos la diferencia en la varianza\n",
    "np.var(ny_nj['income'])\n",
    "np.var(no_ny_nj['income'])\n",
    "print('Diferencia de varianza entre poblaciones:',(np.var(no_ny_nj['income']) - np.var(ny_nj['income']))/np.var(no_ny_nj['income']))\n",
    "print()\n",
    "# La diferencia entre las varianzas es inferior al 5%\n",
    "sample_ny_nj = ny_nj['income'].sample(n=100, random_state=42)\n",
    "sample_no_ny_nj = no_ny_nj['income'].sample(n=100, random_state=42)\n",
    "alpha = 0.05\n",
    "results = st.ttest_ind(sample_ny_nj, sample_no_ny_nj)\n",
    "print('p-value:', results.pvalue)\n",
    "if results.pvalue < alpha:\n",
    "    print(\"Se rechaza la hipotesis nula\")\n",
    "else:\n",
    "    print(\"No se puede rechazar la hipotesis nula\")\n"
   ]
  },
  {
   "cell_type": "markdown",
   "metadata": {
    "id": "IQwa_hsh0q1Q"
   },
   "source": [
    "- No hay una gran diferencia entre los ingresos de NY-NJ con otras regiones."
   ]
  },
  {
   "cell_type": "markdown",
   "metadata": {
    "id": "bbTR8UQO0q1T"
   },
   "source": [
    "## Conclusión general  \n",
    "- Se obtuvo informacion general de cada uno de los dataset, para ver la manera en la que estan distribuidos, que cantidad de filas contiene cada uno y entender que informacion nos proporciona cada una de las columnas. Posteriormente se realizo una comprobacion para analizar si existen datos incorrectos, ausentes o duplicados y en caso de que exista alguna de esos inconvenientes corregir los datos. Luego se realizo un agrupamiento de datos y extraccion de caracteristicas, para dividir el analisis a una temporalidad mensual y de esta manera tener un resumen mas claro de lo que sucede con cada cliente y como se comportan los planes con estos clientes. Luego se verifico como fue el consumo de cada cliente durante cada mes, para determinar cuanta ganancia produjo cada cliente y ademas luego poder determinar cual plan seria mas adecuado para cada cliente. Finalmente se comprobaron las hipotesis que se habian realizado.\n",
    "- La cantidad de usuarios del plan surf es mucho mayor que del plan Ultimate.  \n",
    "- El comportamiento general de los usuarios de ambos planes es muy similar, sin embargo el ingreso promedio se acerca mas al valor del plan ultimate.  \n",
    "- Se pudo observar que gran cantidad de usuarios del plan surf exceden significativamente los limites de trafico de internet y tiempo de llamadas.  \n",
    "- Se recomienda que se invierta mayor publicidad en el plan Ultimate ya que es el que genera mayores ganancias a la vez que cumple mejor con los limites de consumo de los usuarios.  "
   ]
  },
  {
   "cell_type": "markdown",
   "metadata": {},
   "source": [
    "<div class=\"alert alert-block alert-danger\">\n",
    "\n",
    "<b>Comentario del revisor</b> <a class=\"tocSkip\"></a>\n",
    "\n",
    "Recorda realizar una conclusion general. Esta debe contener todo lo que se hizo en el proyecto de forma enumerada o items.\n",
    "\n",
    "Desde la carga e importacion, pasando por los cambios realizado (Y el porque de esas decisiones). Agregando lo que se hizo en cada seccion a modo resumen y las conclusiones del  trabajo.\n",
    "\n",
    "Sirve como resumen de lo realizado en cada proyecto.</div>\n",
    "<div class=\"alert alert-block alert-success\">\n",
    "\n",
    "<b>Comentario del revisor #2</b> <a class=\"tocSkip\"></a>\n",
    "\n",
    "Corregido, muy  bien.</div>\n",
    "\n"
   ]
  },
  {
   "cell_type": "markdown",
   "metadata": {},
   "source": [
    "<div class=\"alert alert-block alert-info\">\n",
    "Agregue como primera conclusion un resumen general de lo realizado en el proyecto.</div>"
   ]
  },
  {
   "cell_type": "code",
   "execution_count": null,
   "metadata": {},
   "outputs": [],
   "source": []
  }
 ],
 "metadata": {
  "ExecuteTimeLog": [
   {
    "duration": 828,
    "start_time": "2021-11-16T09:21:11.304Z"
   },
   {
    "duration": 893,
    "start_time": "2021-11-16T09:21:17.728Z"
   },
   {
    "duration": 1150,
    "start_time": "2021-11-16T09:21:29.568Z"
   },
   {
    "duration": 3,
    "start_time": "2021-11-16T09:24:14.495Z"
   },
   {
    "duration": 120,
    "start_time": "2021-11-16T09:24:46.630Z"
   },
   {
    "duration": 3,
    "start_time": "2021-11-16T09:28:27.882Z"
   },
   {
    "duration": 4,
    "start_time": "2021-11-16T09:29:54.281Z"
   },
   {
    "duration": 3,
    "start_time": "2021-11-16T09:30:45.936Z"
   },
   {
    "duration": 4,
    "start_time": "2021-11-16T09:31:06.300Z"
   },
   {
    "duration": 113,
    "start_time": "2021-11-16T09:31:37.208Z"
   },
   {
    "duration": 143,
    "start_time": "2021-11-16T09:31:48.656Z"
   },
   {
    "duration": 98,
    "start_time": "2021-11-16T09:31:55.678Z"
   },
   {
    "duration": 3,
    "start_time": "2021-11-16T09:32:08.535Z"
   },
   {
    "duration": 111,
    "start_time": "2021-11-16T09:32:10.120Z"
   },
   {
    "duration": 3,
    "start_time": "2021-11-16T09:32:15.732Z"
   },
   {
    "duration": 4,
    "start_time": "2021-11-16T09:32:29.423Z"
   },
   {
    "duration": 3,
    "start_time": "2021-11-16T10:03:03.074Z"
   },
   {
    "duration": 3,
    "start_time": "2021-11-16T10:10:01.288Z"
   },
   {
    "duration": 3,
    "start_time": "2021-11-16T10:10:46.923Z"
   },
   {
    "duration": 121,
    "start_time": "2021-11-16T10:37:46.494Z"
   },
   {
    "duration": 125,
    "start_time": "2021-11-16T10:38:20.632Z"
   },
   {
    "duration": 112,
    "start_time": "2021-11-16T10:46:53.001Z"
   },
   {
    "duration": 110,
    "start_time": "2021-11-16T10:48:25.775Z"
   },
   {
    "duration": 3,
    "start_time": "2021-11-16T10:50:18.720Z"
   },
   {
    "duration": 4,
    "start_time": "2021-11-16T10:50:37.649Z"
   },
   {
    "duration": 2,
    "start_time": "2021-11-16T10:50:51.884Z"
   },
   {
    "duration": 3,
    "start_time": "2021-11-16T10:51:56.237Z"
   },
   {
    "duration": 101,
    "start_time": "2021-11-16T10:53:13.791Z"
   },
   {
    "duration": 3,
    "start_time": "2021-11-16T10:55:59.186Z"
   },
   {
    "duration": 3,
    "start_time": "2021-11-16T10:56:10.751Z"
   },
   {
    "duration": 3,
    "start_time": "2021-11-16T10:56:49.038Z"
   },
   {
    "duration": 3,
    "start_time": "2021-11-16T10:56:49.174Z"
   },
   {
    "duration": 4,
    "start_time": "2021-11-16T10:56:49.414Z"
   },
   {
    "duration": 3,
    "start_time": "2021-11-16T10:56:49.680Z"
   },
   {
    "duration": 3,
    "start_time": "2021-11-16T10:56:50.370Z"
   },
   {
    "duration": 114,
    "start_time": "2021-11-16T10:59:34.518Z"
   },
   {
    "duration": 3,
    "start_time": "2021-11-16T11:01:41.201Z"
   },
   {
    "duration": 116,
    "start_time": "2021-11-16T11:01:48.754Z"
   },
   {
    "duration": 3,
    "start_time": "2021-11-16T11:02:16.685Z"
   },
   {
    "duration": 3,
    "start_time": "2021-11-16T11:02:19.479Z"
   },
   {
    "duration": 3,
    "start_time": "2021-11-16T11:02:47.067Z"
   },
   {
    "duration": 3,
    "start_time": "2021-11-16T11:02:49.353Z"
   },
   {
    "duration": 3,
    "start_time": "2021-11-16T11:03:07.835Z"
   },
   {
    "duration": 3,
    "start_time": "2021-11-16T11:03:07.953Z"
   },
   {
    "duration": 112,
    "start_time": "2021-11-16T11:07:52.072Z"
   },
   {
    "duration": 187,
    "start_time": "2021-11-16T11:09:23.468Z"
   },
   {
    "duration": 4,
    "start_time": "2021-11-16T11:10:01.455Z"
   },
   {
    "duration": 3,
    "start_time": "2021-11-16T11:10:05.069Z"
   },
   {
    "duration": 4,
    "start_time": "2021-11-16T11:10:13.376Z"
   },
   {
    "duration": 3,
    "start_time": "2021-11-16T11:10:14.434Z"
   },
   {
    "duration": 3,
    "start_time": "2021-11-16T11:10:22.853Z"
   },
   {
    "duration": 4,
    "start_time": "2021-11-16T11:27:29.279Z"
   },
   {
    "duration": 4,
    "start_time": "2021-11-16T11:29:08.919Z"
   },
   {
    "duration": 118,
    "start_time": "2021-11-16T11:29:46.703Z"
   },
   {
    "duration": 437,
    "start_time": "2021-11-16T11:36:02.181Z"
   },
   {
    "duration": 157,
    "start_time": "2021-11-16T11:36:14.388Z"
   },
   {
    "duration": 207,
    "start_time": "2021-11-16T11:47:15.898Z"
   },
   {
    "duration": 3,
    "start_time": "2021-11-16T11:53:52.092Z"
   },
   {
    "duration": 3,
    "start_time": "2021-11-16T11:53:52.236Z"
   },
   {
    "duration": 3,
    "start_time": "2021-11-16T11:59:12.005Z"
   },
   {
    "duration": 112,
    "start_time": "2021-11-16T12:00:33.446Z"
   },
   {
    "duration": 3,
    "start_time": "2021-11-16T12:02:14.453Z"
   },
   {
    "duration": 3,
    "start_time": "2021-11-16T12:02:39.512Z"
   },
   {
    "duration": 106,
    "start_time": "2021-11-16T12:03:03.460Z"
   },
   {
    "duration": 3,
    "start_time": "2021-11-17T20:37:21.139Z"
   },
   {
    "duration": 3,
    "start_time": "2021-11-17T20:37:22.229Z"
   },
   {
    "duration": 3,
    "start_time": "2021-11-17T20:38:38.806Z"
   },
   {
    "duration": 3,
    "start_time": "2021-11-17T20:38:41.958Z"
   },
   {
    "duration": 3,
    "start_time": "2021-11-17T20:43:46.551Z"
   },
   {
    "duration": 4,
    "start_time": "2021-11-17T20:58:21.835Z"
   },
   {
    "duration": 3,
    "start_time": "2021-11-17T20:59:21.872Z"
   },
   {
    "duration": 4,
    "start_time": "2021-11-17T20:59:45.352Z"
   },
   {
    "duration": 4,
    "start_time": "2021-11-17T20:59:49.646Z"
   },
   {
    "duration": 159,
    "start_time": "2021-11-17T21:02:26.949Z"
   },
   {
    "duration": 3,
    "start_time": "2021-11-17T21:03:53.461Z"
   },
   {
    "duration": 3,
    "start_time": "2021-11-17T21:03:53.694Z"
   },
   {
    "duration": 3,
    "start_time": "2021-11-17T21:05:28.145Z"
   },
   {
    "duration": 116,
    "start_time": "2021-11-17T21:05:57.787Z"
   },
   {
    "duration": 3,
    "start_time": "2021-11-17T21:06:37.993Z"
   },
   {
    "duration": 3,
    "start_time": "2021-11-17T21:06:38.261Z"
   },
   {
    "duration": 3,
    "start_time": "2021-11-17T21:11:54.358Z"
   },
   {
    "duration": 3,
    "start_time": "2021-11-17T21:12:43.846Z"
   },
   {
    "duration": 4,
    "start_time": "2021-11-17T21:13:08.773Z"
   },
   {
    "duration": 3,
    "start_time": "2021-11-17T21:14:44.441Z"
   },
   {
    "duration": 3,
    "start_time": "2021-11-17T21:15:42.059Z"
   },
   {
    "duration": 4,
    "start_time": "2021-11-17T21:15:51.995Z"
   },
   {
    "duration": 3,
    "start_time": "2021-11-17T21:15:53.923Z"
   },
   {
    "duration": 3,
    "start_time": "2021-11-17T21:15:55.282Z"
   },
   {
    "duration": 3,
    "start_time": "2021-11-17T21:16:28.492Z"
   },
   {
    "duration": 3,
    "start_time": "2021-11-17T21:16:32.603Z"
   },
   {
    "duration": 3,
    "start_time": "2021-11-17T21:17:06.941Z"
   },
   {
    "duration": 98,
    "start_time": "2021-11-17T21:18:05.733Z"
   },
   {
    "duration": 4,
    "start_time": "2021-11-17T21:21:35.255Z"
   },
   {
    "duration": 3,
    "start_time": "2021-11-17T21:21:37.804Z"
   },
   {
    "duration": 4,
    "start_time": "2021-11-17T21:23:06.071Z"
   },
   {
    "duration": 3,
    "start_time": "2021-11-17T21:23:24.799Z"
   },
   {
    "duration": 3,
    "start_time": "2021-11-17T21:23:32.591Z"
   },
   {
    "duration": 98,
    "start_time": "2021-11-17T21:28:31.559Z"
   },
   {
    "duration": 3,
    "start_time": "2021-11-17T21:28:45.448Z"
   },
   {
    "duration": 3,
    "start_time": "2021-11-17T21:29:17.303Z"
   },
   {
    "duration": 3,
    "start_time": "2021-11-17T21:29:29.617Z"
   },
   {
    "duration": 3,
    "start_time": "2021-11-17T21:29:32.681Z"
   },
   {
    "duration": 3,
    "start_time": "2021-11-17T21:36:11.474Z"
   },
   {
    "duration": 3,
    "start_time": "2021-11-17T21:36:14.791Z"
   },
   {
    "duration": 3,
    "start_time": "2021-11-17T21:36:53.943Z"
   },
   {
    "duration": 3,
    "start_time": "2021-11-17T21:36:56.165Z"
   },
   {
    "duration": 4,
    "start_time": "2021-11-17T21:37:16.590Z"
   },
   {
    "duration": 3,
    "start_time": "2021-11-17T21:37:22.702Z"
   },
   {
    "duration": 4,
    "start_time": "2021-11-17T21:38:03.479Z"
   },
   {
    "duration": 3,
    "start_time": "2021-11-17T21:38:08.601Z"
   },
   {
    "duration": 3,
    "start_time": "2021-11-17T21:38:12.928Z"
   },
   {
    "duration": 3,
    "start_time": "2021-11-17T21:38:48.896Z"
   },
   {
    "duration": 2,
    "start_time": "2021-11-17T21:38:49.171Z"
   },
   {
    "duration": 4,
    "start_time": "2021-11-17T21:39:57.889Z"
   },
   {
    "duration": 3,
    "start_time": "2021-11-17T21:39:58.057Z"
   },
   {
    "duration": 3,
    "start_time": "2021-11-17T21:41:20.108Z"
   },
   {
    "duration": 3,
    "start_time": "2021-11-17T21:41:20.629Z"
   },
   {
    "duration": 3,
    "start_time": "2021-11-17T21:42:49.136Z"
   },
   {
    "duration": 3,
    "start_time": "2021-11-17T21:43:15.137Z"
   },
   {
    "duration": 4,
    "start_time": "2021-11-17T21:43:16.766Z"
   },
   {
    "duration": 4,
    "start_time": "2021-11-17T21:43:31.711Z"
   },
   {
    "duration": 3,
    "start_time": "2021-11-17T21:43:36.312Z"
   },
   {
    "duration": 4,
    "start_time": "2021-11-17T21:45:08.825Z"
   },
   {
    "duration": 4,
    "start_time": "2021-11-17T21:45:10.119Z"
   },
   {
    "duration": 4,
    "start_time": "2021-11-17T21:45:13.748Z"
   },
   {
    "duration": 3,
    "start_time": "2021-11-17T21:45:22.219Z"
   },
   {
    "duration": 3,
    "start_time": "2021-11-17T21:45:33.412Z"
   },
   {
    "duration": 2,
    "start_time": "2021-11-17T21:46:01.885Z"
   },
   {
    "duration": 3,
    "start_time": "2021-11-17T21:46:03.628Z"
   },
   {
    "duration": 107,
    "start_time": "2021-11-17T21:47:32.512Z"
   },
   {
    "duration": 103,
    "start_time": "2021-11-17T21:50:36.243Z"
   },
   {
    "duration": 3,
    "start_time": "2021-11-18T06:28:31.440Z"
   },
   {
    "duration": 3,
    "start_time": "2021-11-18T06:29:00.168Z"
   },
   {
    "duration": 3,
    "start_time": "2021-11-18T06:31:27.008Z"
   },
   {
    "duration": 2,
    "start_time": "2021-11-18T06:35:34.288Z"
   },
   {
    "duration": 2,
    "start_time": "2021-11-18T06:38:04.527Z"
   },
   {
    "duration": 4877,
    "start_time": "2024-05-23T04:07:16.115Z"
   },
   {
    "duration": 350,
    "start_time": "2024-05-23T04:07:20.995Z"
   },
   {
    "duration": 39,
    "start_time": "2024-05-23T04:07:21.884Z"
   },
   {
    "duration": 8,
    "start_time": "2024-05-23T04:07:23.589Z"
   },
   {
    "duration": 5,
    "start_time": "2024-05-23T04:07:30.537Z"
   },
   {
    "duration": 5,
    "start_time": "2024-05-23T04:07:31.882Z"
   },
   {
    "duration": 24,
    "start_time": "2024-05-23T04:07:39.432Z"
   },
   {
    "duration": 9,
    "start_time": "2024-05-23T04:07:41.265Z"
   },
   {
    "duration": 6,
    "start_time": "2024-05-23T04:15:09.353Z"
   },
   {
    "duration": 5,
    "start_time": "2024-05-23T04:16:17.826Z"
   },
   {
    "duration": 6,
    "start_time": "2024-05-23T04:16:19.006Z"
   },
   {
    "duration": 22,
    "start_time": "2024-05-23T04:16:23.181Z"
   },
   {
    "duration": 10,
    "start_time": "2024-05-23T04:16:25.593Z"
   },
   {
    "duration": 7,
    "start_time": "2024-05-23T04:16:47.360Z"
   },
   {
    "duration": 8,
    "start_time": "2024-05-23T04:18:02.566Z"
   },
   {
    "duration": 7,
    "start_time": "2024-05-23T04:18:06.129Z"
   },
   {
    "duration": 10,
    "start_time": "2024-05-23T04:18:10.569Z"
   },
   {
    "duration": 4,
    "start_time": "2024-05-23T04:19:16.644Z"
   },
   {
    "duration": 9,
    "start_time": "2024-05-23T04:19:21.997Z"
   },
   {
    "duration": 5,
    "start_time": "2024-05-23T04:19:24.892Z"
   },
   {
    "duration": 4,
    "start_time": "2024-05-23T04:19:26.585Z"
   },
   {
    "duration": 4,
    "start_time": "2024-05-23T04:19:27.226Z"
   },
   {
    "duration": 23,
    "start_time": "2024-05-23T04:19:29.576Z"
   },
   {
    "duration": 8,
    "start_time": "2024-05-23T04:19:31.770Z"
   },
   {
    "duration": 6,
    "start_time": "2024-05-23T04:19:32.668Z"
   },
   {
    "duration": 5,
    "start_time": "2024-05-23T04:19:40.500Z"
   },
   {
    "duration": 11,
    "start_time": "2024-05-23T04:19:43.278Z"
   },
   {
    "duration": 44,
    "start_time": "2024-05-23T04:19:49.634Z"
   },
   {
    "duration": 46,
    "start_time": "2024-05-23T04:20:12.980Z"
   },
   {
    "duration": 11,
    "start_time": "2024-05-23T04:23:02.397Z"
   },
   {
    "duration": 54,
    "start_time": "2024-05-23T04:23:20.742Z"
   },
   {
    "duration": 54,
    "start_time": "2024-05-23T04:25:39.853Z"
   },
   {
    "duration": 28,
    "start_time": "2024-05-23T04:25:43.113Z"
   },
   {
    "duration": 25,
    "start_time": "2024-05-23T04:25:46.733Z"
   },
   {
    "duration": 21,
    "start_time": "2024-05-23T04:26:00.984Z"
   },
   {
    "duration": 19,
    "start_time": "2024-05-23T04:26:02.270Z"
   },
   {
    "duration": 22,
    "start_time": "2024-05-23T04:26:03.258Z"
   },
   {
    "duration": 28,
    "start_time": "2024-05-23T04:26:06.008Z"
   },
   {
    "duration": 10,
    "start_time": "2024-05-23T04:26:08.686Z"
   },
   {
    "duration": 32,
    "start_time": "2024-05-23T04:26:21.419Z"
   },
   {
    "duration": 18,
    "start_time": "2024-05-23T04:26:59.501Z"
   },
   {
    "duration": 20,
    "start_time": "2024-05-23T04:27:01.291Z"
   },
   {
    "duration": 37,
    "start_time": "2024-05-23T04:27:09.718Z"
   },
   {
    "duration": 10,
    "start_time": "2024-05-23T04:27:10.574Z"
   },
   {
    "duration": 63,
    "start_time": "2024-05-23T04:27:24.837Z"
   },
   {
    "duration": 22,
    "start_time": "2024-05-23T04:27:55.016Z"
   },
   {
    "duration": 20,
    "start_time": "2024-05-23T04:27:56.102Z"
   },
   {
    "duration": 7,
    "start_time": "2024-05-23T04:28:01.379Z"
   },
   {
    "duration": 21,
    "start_time": "2024-05-23T04:28:08.034Z"
   },
   {
    "duration": 22,
    "start_time": "2024-05-23T04:28:14.838Z"
   },
   {
    "duration": 18,
    "start_time": "2024-05-23T04:28:16.187Z"
   },
   {
    "duration": 24,
    "start_time": "2024-05-23T04:28:17.270Z"
   },
   {
    "duration": 25,
    "start_time": "2024-05-23T04:28:19.544Z"
   },
   {
    "duration": 29,
    "start_time": "2024-05-23T04:28:20.814Z"
   },
   {
    "duration": 86,
    "start_time": "2024-05-23T04:28:23.438Z"
   },
   {
    "duration": 708,
    "start_time": "2024-05-23T04:28:33.397Z"
   },
   {
    "duration": 478,
    "start_time": "2024-05-23T04:29:13.459Z"
   },
   {
    "duration": 1272,
    "start_time": "2024-05-23T04:29:18.490Z"
   },
   {
    "duration": 674,
    "start_time": "2024-05-23T04:29:30.874Z"
   },
   {
    "duration": 3288,
    "start_time": "2024-05-23T04:34:06.831Z"
   },
   {
    "duration": 3406,
    "start_time": "2024-05-23T04:34:10.694Z"
   },
   {
    "duration": 3331,
    "start_time": "2024-05-23T04:34:42.948Z"
   },
   {
    "duration": 34,
    "start_time": "2024-05-23T04:36:53.164Z"
   },
   {
    "duration": 3393,
    "start_time": "2024-05-23T04:38:07.512Z"
   },
   {
    "duration": 695,
    "start_time": "2024-05-23T04:39:12.603Z"
   },
   {
    "duration": 333,
    "start_time": "2024-05-23T04:39:23.700Z"
   },
   {
    "duration": 963,
    "start_time": "2024-05-23T04:39:28.316Z"
   },
   {
    "duration": 332,
    "start_time": "2024-05-23T04:40:10.980Z"
   },
   {
    "duration": 314,
    "start_time": "2024-05-23T04:40:33.946Z"
   },
   {
    "duration": 654,
    "start_time": "2024-05-23T04:41:49.579Z"
   },
   {
    "duration": 319,
    "start_time": "2024-05-23T04:42:37.818Z"
   },
   {
    "duration": 3304,
    "start_time": "2024-05-23T04:43:18.237Z"
   },
   {
    "duration": 676,
    "start_time": "2024-05-23T04:43:33.914Z"
   },
   {
    "duration": 3371,
    "start_time": "2024-05-23T04:43:35.078Z"
   },
   {
    "duration": 942,
    "start_time": "2024-05-23T04:43:38.453Z"
   },
   {
    "duration": 16,
    "start_time": "2024-05-23T04:43:39.398Z"
   },
   {
    "duration": 342,
    "start_time": "2024-05-23T04:43:39.435Z"
   },
   {
    "duration": 692,
    "start_time": "2024-05-23T04:43:39.781Z"
   },
   {
    "duration": 337,
    "start_time": "2024-05-23T04:43:40.476Z"
   },
   {
    "duration": 669,
    "start_time": "2024-05-23T04:43:43.137Z"
   },
   {
    "duration": 371,
    "start_time": "2024-05-23T04:43:53.364Z"
   },
   {
    "duration": 1063,
    "start_time": "2024-05-23T04:44:09.145Z"
   },
   {
    "duration": 296,
    "start_time": "2024-05-23T04:44:39.307Z"
   },
   {
    "duration": 11,
    "start_time": "2024-05-23T04:46:16.916Z"
   },
   {
    "duration": 26,
    "start_time": "2024-05-23T04:46:22.995Z"
   },
   {
    "duration": 4,
    "start_time": "2024-05-23T06:30:43.859Z"
   },
   {
    "duration": 264,
    "start_time": "2024-05-23T06:30:44.977Z"
   },
   {
    "duration": 37,
    "start_time": "2024-05-23T06:30:46.711Z"
   },
   {
    "duration": 9,
    "start_time": "2024-05-23T06:30:47.333Z"
   },
   {
    "duration": 6,
    "start_time": "2024-05-23T06:30:47.770Z"
   },
   {
    "duration": 4,
    "start_time": "2024-05-23T06:30:49.665Z"
   },
   {
    "duration": 4,
    "start_time": "2024-05-23T06:30:52.750Z"
   },
   {
    "duration": 343,
    "start_time": "2024-05-23T07:16:47.090Z"
   },
   {
    "duration": 76,
    "start_time": "2024-05-23T07:20:01.627Z"
   },
   {
    "duration": 312,
    "start_time": "2024-05-23T07:21:21.387Z"
   },
   {
    "duration": 299,
    "start_time": "2024-05-23T07:21:39.313Z"
   },
   {
    "duration": 12,
    "start_time": "2024-05-23T07:22:32.117Z"
   },
   {
    "duration": 98,
    "start_time": "2024-05-23T07:25:29.599Z"
   },
   {
    "duration": 1061,
    "start_time": "2024-05-23T07:26:37.625Z"
   },
   {
    "duration": 309,
    "start_time": "2024-05-23T07:27:01.490Z"
   },
   {
    "duration": 389,
    "start_time": "2024-05-23T07:28:24.878Z"
   },
   {
    "duration": 2201,
    "start_time": "2024-05-23T22:29:52.033Z"
   },
   {
    "duration": 356,
    "start_time": "2024-05-23T22:29:54.237Z"
   },
   {
    "duration": 44,
    "start_time": "2024-05-23T22:29:54.599Z"
   },
   {
    "duration": 7,
    "start_time": "2024-05-23T22:29:54.648Z"
   },
   {
    "duration": 7,
    "start_time": "2024-05-23T22:29:54.658Z"
   },
   {
    "duration": 6,
    "start_time": "2024-05-23T22:29:54.669Z"
   },
   {
    "duration": 5,
    "start_time": "2024-05-23T22:29:54.678Z"
   },
   {
    "duration": 65,
    "start_time": "2024-05-23T22:29:54.686Z"
   },
   {
    "duration": 10,
    "start_time": "2024-05-23T22:29:54.754Z"
   },
   {
    "duration": 7,
    "start_time": "2024-05-23T22:29:54.769Z"
   },
   {
    "duration": 6,
    "start_time": "2024-05-23T22:29:54.780Z"
   },
   {
    "duration": 10,
    "start_time": "2024-05-23T22:29:54.832Z"
   },
   {
    "duration": 48,
    "start_time": "2024-05-23T22:29:54.845Z"
   },
   {
    "duration": 45,
    "start_time": "2024-05-23T22:29:54.895Z"
   },
   {
    "duration": 54,
    "start_time": "2024-05-23T22:29:54.943Z"
   },
   {
    "duration": 52,
    "start_time": "2024-05-23T22:29:54.999Z"
   },
   {
    "duration": 25,
    "start_time": "2024-05-23T22:29:55.054Z"
   },
   {
    "duration": 57,
    "start_time": "2024-05-23T22:29:55.083Z"
   },
   {
    "duration": 10,
    "start_time": "2024-05-23T22:29:55.142Z"
   },
   {
    "duration": 26,
    "start_time": "2024-05-23T22:29:55.155Z"
   },
   {
    "duration": 49,
    "start_time": "2024-05-23T22:29:55.184Z"
   },
   {
    "duration": 16,
    "start_time": "2024-05-23T22:29:55.236Z"
   },
   {
    "duration": 43,
    "start_time": "2024-05-23T22:29:55.255Z"
   },
   {
    "duration": 39,
    "start_time": "2024-05-23T22:29:55.301Z"
   },
   {
    "duration": 61,
    "start_time": "2024-05-23T22:29:55.343Z"
   },
   {
    "duration": 21,
    "start_time": "2024-05-23T22:29:55.430Z"
   },
   {
    "duration": 21,
    "start_time": "2024-05-23T22:29:55.454Z"
   },
   {
    "duration": 7,
    "start_time": "2024-05-23T22:29:55.483Z"
   },
   {
    "duration": 56,
    "start_time": "2024-05-23T22:29:55.493Z"
   },
   {
    "duration": 23,
    "start_time": "2024-05-23T22:29:55.552Z"
   },
   {
    "duration": 17,
    "start_time": "2024-05-23T22:29:55.578Z"
   },
   {
    "duration": 52,
    "start_time": "2024-05-23T22:29:55.598Z"
   },
   {
    "duration": 31,
    "start_time": "2024-05-23T22:29:55.653Z"
   },
   {
    "duration": 68,
    "start_time": "2024-05-23T22:29:55.687Z"
   },
   {
    "duration": 99,
    "start_time": "2024-05-23T22:29:55.757Z"
   },
   {
    "duration": 753,
    "start_time": "2024-05-23T22:29:55.859Z"
   },
   {
    "duration": 3078,
    "start_time": "2024-05-23T22:29:56.615Z"
   },
   {
    "duration": 642,
    "start_time": "2024-05-23T22:29:59.696Z"
   },
   {
    "duration": 13,
    "start_time": "2024-05-23T22:30:00.342Z"
   },
   {
    "duration": 514,
    "start_time": "2024-05-23T22:30:00.358Z"
   },
   {
    "duration": 793,
    "start_time": "2024-05-23T22:30:00.875Z"
   },
   {
    "duration": 696,
    "start_time": "2024-05-23T22:30:01.671Z"
   },
   {
    "duration": 1131,
    "start_time": "2024-05-23T22:30:02.371Z"
   },
   {
    "duration": 369,
    "start_time": "2024-05-23T22:30:03.508Z"
   },
   {
    "duration": 1006,
    "start_time": "2024-05-23T22:30:03.881Z"
   },
   {
    "duration": 296,
    "start_time": "2024-05-23T22:30:04.890Z"
   },
   {
    "duration": 262,
    "start_time": "2024-05-23T22:30:05.189Z"
   },
   {
    "duration": 11,
    "start_time": "2024-05-23T22:30:05.453Z"
   },
   {
    "duration": 19,
    "start_time": "2024-05-23T22:30:05.467Z"
   }
  ],
  "colab": {
   "provenance": []
  },
  "kernelspec": {
   "display_name": "Python 3 (ipykernel)",
   "language": "python",
   "name": "python3"
  },
  "language_info": {
   "codemirror_mode": {
    "name": "ipython",
    "version": 3
   },
   "file_extension": ".py",
   "mimetype": "text/x-python",
   "name": "python",
   "nbconvert_exporter": "python",
   "pygments_lexer": "ipython3",
   "version": "3.9.19"
  },
  "toc": {
   "base_numbering": 1,
   "nav_menu": {},
   "number_sections": true,
   "sideBar": true,
   "skip_h1_title": false,
   "title_cell": "Table of Contents",
   "title_sidebar": "Contents",
   "toc_cell": false,
   "toc_position": {
    "height": "calc(100% - 180px)",
    "left": "10px",
    "top": "150px",
    "width": "384px"
   },
   "toc_section_display": true,
   "toc_window_display": true
  }
 },
 "nbformat": 4,
 "nbformat_minor": 1
}
